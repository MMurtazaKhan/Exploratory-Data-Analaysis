{
  "cells": [
    {
      "cell_type": "markdown",
      "metadata": {
        "id": "GmngZdto-Tdd"
      },
      "source": [
        "# **US Accidents Exploratory Data Analysis**\n",
        "\n",
        "TODO - talk about EDA\n",
        "\n",
        "TODO - talk about the dataset (source, what it contains, how it will be useful)\n",
        "\n",
        "\n",
        "\n"
      ]
    },
    {
      "cell_type": "code",
      "execution_count": null,
      "metadata": {
        "id": "ZsnkspyC-g1-"
      },
      "outputs": [],
      "source": [
        "pip install opendatasets "
      ]
    },
    {
      "cell_type": "code",
      "execution_count": 2,
      "metadata": {
        "colab": {
          "base_uri": "https://localhost:8080/"
        },
        "id": "AdBHEXPD-g4c",
        "outputId": "db5cfe3a-ff82-4702-8b82-5ae45e59c063"
      },
      "outputs": [
        {
          "output_type": "stream",
          "name": "stdout",
          "text": [
            "Please provide your Kaggle credentials to download this dataset. Learn more: http://bit.ly/kaggle-creds\n",
            "Your Kaggle username: ayanhussain\n",
            "Your Kaggle Key: ··········\n",
            "Downloading us-accidents.zip to ./us-accidents\n"
          ]
        },
        {
          "output_type": "stream",
          "name": "stderr",
          "text": [
            "100%|██████████| 269M/269M [00:02<00:00, 113MB/s]\n"
          ]
        },
        {
          "output_type": "stream",
          "name": "stdout",
          "text": [
            "\n"
          ]
        }
      ],
      "source": [
        "import opendatasets as od\n",
        "download_link = 'https://www.kaggle.com/datasets/sobhanmoosavi/us-accidents'\n",
        "od.download(download_link)"
      ]
    },
    {
      "cell_type": "code",
      "execution_count": 3,
      "metadata": {
        "id": "sMSNs-54-g7D"
      },
      "outputs": [],
      "source": [
        "data_file='/content/us-accidents/US_Accidents_Dec21_updated.csv'"
      ]
    },
    {
      "cell_type": "markdown",
      "metadata": {
        "id": "yY_larOs_5KM"
      },
      "source": [
        "## Data Preparation and Cleaning\n",
        "\n",
        "\n",
        "1.   Load the file using pandas\n",
        "2.   Look at some information about the data and columns\n",
        "3.   Fix any missing or null values\n",
        "\n",
        "\n",
        "\n",
        "\n"
      ]
    },
    {
      "cell_type": "code",
      "execution_count": 4,
      "metadata": {
        "id": "R2aOw7IS-g9j"
      },
      "outputs": [],
      "source": [
        "import pandas as pd\n",
        "df = pd.read_csv(data_file)"
      ]
    },
    {
      "cell_type": "code",
      "execution_count": 5,
      "metadata": {
        "colab": {
          "base_uri": "https://localhost:8080/",
          "height": 508
        },
        "id": "osO7CefB-hAD",
        "outputId": "a127851b-1755-4a74-ae45-8f2e3b25a7d2"
      },
      "outputs": [
        {
          "output_type": "execute_result",
          "data": {
            "text/plain": [
              "    ID  Severity           Start_Time             End_Time  Start_Lat  \\\n",
              "0  A-1         3  2016-02-08 00:37:08  2016-02-08 06:37:08  40.108910   \n",
              "1  A-2         2  2016-02-08 05:56:20  2016-02-08 11:56:20  39.865420   \n",
              "2  A-3         2  2016-02-08 06:15:39  2016-02-08 12:15:39  39.102660   \n",
              "3  A-4         2  2016-02-08 06:51:45  2016-02-08 12:51:45  41.062130   \n",
              "4  A-5         3  2016-02-08 07:53:43  2016-02-08 13:53:43  39.172393   \n",
              "\n",
              "   Start_Lng    End_Lat    End_Lng  Distance(mi)  \\\n",
              "0 -83.092860  40.112060 -83.031870         3.230   \n",
              "1 -84.062800  39.865010 -84.048730         0.747   \n",
              "2 -84.524680  39.102090 -84.523960         0.055   \n",
              "3 -81.537840  41.062170 -81.535470         0.123   \n",
              "4 -84.492792  39.170476 -84.501798         0.500   \n",
              "\n",
              "                                         Description  ...  Roundabout Station  \\\n",
              "0  Between Sawmill Rd/Exit 20 and OH-315/Olentang...  ...       False   False   \n",
              "1                 At OH-4/OH-235/Exit 41 - Accident.  ...       False   False   \n",
              "2                   At I-71/US-50/Exit 1 - Accident.  ...       False   False   \n",
              "3                    At Dart Ave/Exit 21 - Accident.  ...       False   False   \n",
              "4                 At Mitchell Ave/Exit 6 - Accident.  ...       False   False   \n",
              "\n",
              "    Stop Traffic_Calming Traffic_Signal Turning_Loop Sunrise_Sunset  \\\n",
              "0  False           False          False        False          Night   \n",
              "1  False           False          False        False          Night   \n",
              "2  False           False          False        False          Night   \n",
              "3  False           False          False        False          Night   \n",
              "4  False           False          False        False            Day   \n",
              "\n",
              "  Civil_Twilight Nautical_Twilight Astronomical_Twilight  \n",
              "0          Night             Night                 Night  \n",
              "1          Night             Night                 Night  \n",
              "2          Night             Night                   Day  \n",
              "3          Night               Day                   Day  \n",
              "4            Day               Day                   Day  \n",
              "\n",
              "[5 rows x 47 columns]"
            ],
            "text/html": [
              "\n",
              "  <div id=\"df-14070720-3576-43c3-ad5c-709bf77a3630\">\n",
              "    <div class=\"colab-df-container\">\n",
              "      <div>\n",
              "<style scoped>\n",
              "    .dataframe tbody tr th:only-of-type {\n",
              "        vertical-align: middle;\n",
              "    }\n",
              "\n",
              "    .dataframe tbody tr th {\n",
              "        vertical-align: top;\n",
              "    }\n",
              "\n",
              "    .dataframe thead th {\n",
              "        text-align: right;\n",
              "    }\n",
              "</style>\n",
              "<table border=\"1\" class=\"dataframe\">\n",
              "  <thead>\n",
              "    <tr style=\"text-align: right;\">\n",
              "      <th></th>\n",
              "      <th>ID</th>\n",
              "      <th>Severity</th>\n",
              "      <th>Start_Time</th>\n",
              "      <th>End_Time</th>\n",
              "      <th>Start_Lat</th>\n",
              "      <th>Start_Lng</th>\n",
              "      <th>End_Lat</th>\n",
              "      <th>End_Lng</th>\n",
              "      <th>Distance(mi)</th>\n",
              "      <th>Description</th>\n",
              "      <th>...</th>\n",
              "      <th>Roundabout</th>\n",
              "      <th>Station</th>\n",
              "      <th>Stop</th>\n",
              "      <th>Traffic_Calming</th>\n",
              "      <th>Traffic_Signal</th>\n",
              "      <th>Turning_Loop</th>\n",
              "      <th>Sunrise_Sunset</th>\n",
              "      <th>Civil_Twilight</th>\n",
              "      <th>Nautical_Twilight</th>\n",
              "      <th>Astronomical_Twilight</th>\n",
              "    </tr>\n",
              "  </thead>\n",
              "  <tbody>\n",
              "    <tr>\n",
              "      <th>0</th>\n",
              "      <td>A-1</td>\n",
              "      <td>3</td>\n",
              "      <td>2016-02-08 00:37:08</td>\n",
              "      <td>2016-02-08 06:37:08</td>\n",
              "      <td>40.108910</td>\n",
              "      <td>-83.092860</td>\n",
              "      <td>40.112060</td>\n",
              "      <td>-83.031870</td>\n",
              "      <td>3.230</td>\n",
              "      <td>Between Sawmill Rd/Exit 20 and OH-315/Olentang...</td>\n",
              "      <td>...</td>\n",
              "      <td>False</td>\n",
              "      <td>False</td>\n",
              "      <td>False</td>\n",
              "      <td>False</td>\n",
              "      <td>False</td>\n",
              "      <td>False</td>\n",
              "      <td>Night</td>\n",
              "      <td>Night</td>\n",
              "      <td>Night</td>\n",
              "      <td>Night</td>\n",
              "    </tr>\n",
              "    <tr>\n",
              "      <th>1</th>\n",
              "      <td>A-2</td>\n",
              "      <td>2</td>\n",
              "      <td>2016-02-08 05:56:20</td>\n",
              "      <td>2016-02-08 11:56:20</td>\n",
              "      <td>39.865420</td>\n",
              "      <td>-84.062800</td>\n",
              "      <td>39.865010</td>\n",
              "      <td>-84.048730</td>\n",
              "      <td>0.747</td>\n",
              "      <td>At OH-4/OH-235/Exit 41 - Accident.</td>\n",
              "      <td>...</td>\n",
              "      <td>False</td>\n",
              "      <td>False</td>\n",
              "      <td>False</td>\n",
              "      <td>False</td>\n",
              "      <td>False</td>\n",
              "      <td>False</td>\n",
              "      <td>Night</td>\n",
              "      <td>Night</td>\n",
              "      <td>Night</td>\n",
              "      <td>Night</td>\n",
              "    </tr>\n",
              "    <tr>\n",
              "      <th>2</th>\n",
              "      <td>A-3</td>\n",
              "      <td>2</td>\n",
              "      <td>2016-02-08 06:15:39</td>\n",
              "      <td>2016-02-08 12:15:39</td>\n",
              "      <td>39.102660</td>\n",
              "      <td>-84.524680</td>\n",
              "      <td>39.102090</td>\n",
              "      <td>-84.523960</td>\n",
              "      <td>0.055</td>\n",
              "      <td>At I-71/US-50/Exit 1 - Accident.</td>\n",
              "      <td>...</td>\n",
              "      <td>False</td>\n",
              "      <td>False</td>\n",
              "      <td>False</td>\n",
              "      <td>False</td>\n",
              "      <td>False</td>\n",
              "      <td>False</td>\n",
              "      <td>Night</td>\n",
              "      <td>Night</td>\n",
              "      <td>Night</td>\n",
              "      <td>Day</td>\n",
              "    </tr>\n",
              "    <tr>\n",
              "      <th>3</th>\n",
              "      <td>A-4</td>\n",
              "      <td>2</td>\n",
              "      <td>2016-02-08 06:51:45</td>\n",
              "      <td>2016-02-08 12:51:45</td>\n",
              "      <td>41.062130</td>\n",
              "      <td>-81.537840</td>\n",
              "      <td>41.062170</td>\n",
              "      <td>-81.535470</td>\n",
              "      <td>0.123</td>\n",
              "      <td>At Dart Ave/Exit 21 - Accident.</td>\n",
              "      <td>...</td>\n",
              "      <td>False</td>\n",
              "      <td>False</td>\n",
              "      <td>False</td>\n",
              "      <td>False</td>\n",
              "      <td>False</td>\n",
              "      <td>False</td>\n",
              "      <td>Night</td>\n",
              "      <td>Night</td>\n",
              "      <td>Day</td>\n",
              "      <td>Day</td>\n",
              "    </tr>\n",
              "    <tr>\n",
              "      <th>4</th>\n",
              "      <td>A-5</td>\n",
              "      <td>3</td>\n",
              "      <td>2016-02-08 07:53:43</td>\n",
              "      <td>2016-02-08 13:53:43</td>\n",
              "      <td>39.172393</td>\n",
              "      <td>-84.492792</td>\n",
              "      <td>39.170476</td>\n",
              "      <td>-84.501798</td>\n",
              "      <td>0.500</td>\n",
              "      <td>At Mitchell Ave/Exit 6 - Accident.</td>\n",
              "      <td>...</td>\n",
              "      <td>False</td>\n",
              "      <td>False</td>\n",
              "      <td>False</td>\n",
              "      <td>False</td>\n",
              "      <td>False</td>\n",
              "      <td>False</td>\n",
              "      <td>Day</td>\n",
              "      <td>Day</td>\n",
              "      <td>Day</td>\n",
              "      <td>Day</td>\n",
              "    </tr>\n",
              "  </tbody>\n",
              "</table>\n",
              "<p>5 rows × 47 columns</p>\n",
              "</div>\n",
              "      <button class=\"colab-df-convert\" onclick=\"convertToInteractive('df-14070720-3576-43c3-ad5c-709bf77a3630')\"\n",
              "              title=\"Convert this dataframe to an interactive table.\"\n",
              "              style=\"display:none;\">\n",
              "        \n",
              "  <svg xmlns=\"http://www.w3.org/2000/svg\" height=\"24px\"viewBox=\"0 0 24 24\"\n",
              "       width=\"24px\">\n",
              "    <path d=\"M0 0h24v24H0V0z\" fill=\"none\"/>\n",
              "    <path d=\"M18.56 5.44l.94 2.06.94-2.06 2.06-.94-2.06-.94-.94-2.06-.94 2.06-2.06.94zm-11 1L8.5 8.5l.94-2.06 2.06-.94-2.06-.94L8.5 2.5l-.94 2.06-2.06.94zm10 10l.94 2.06.94-2.06 2.06-.94-2.06-.94-.94-2.06-.94 2.06-2.06.94z\"/><path d=\"M17.41 7.96l-1.37-1.37c-.4-.4-.92-.59-1.43-.59-.52 0-1.04.2-1.43.59L10.3 9.45l-7.72 7.72c-.78.78-.78 2.05 0 2.83L4 21.41c.39.39.9.59 1.41.59.51 0 1.02-.2 1.41-.59l7.78-7.78 2.81-2.81c.8-.78.8-2.07 0-2.86zM5.41 20L4 18.59l7.72-7.72 1.47 1.35L5.41 20z\"/>\n",
              "  </svg>\n",
              "      </button>\n",
              "      \n",
              "  <style>\n",
              "    .colab-df-container {\n",
              "      display:flex;\n",
              "      flex-wrap:wrap;\n",
              "      gap: 12px;\n",
              "    }\n",
              "\n",
              "    .colab-df-convert {\n",
              "      background-color: #E8F0FE;\n",
              "      border: none;\n",
              "      border-radius: 50%;\n",
              "      cursor: pointer;\n",
              "      display: none;\n",
              "      fill: #1967D2;\n",
              "      height: 32px;\n",
              "      padding: 0 0 0 0;\n",
              "      width: 32px;\n",
              "    }\n",
              "\n",
              "    .colab-df-convert:hover {\n",
              "      background-color: #E2EBFA;\n",
              "      box-shadow: 0px 1px 2px rgba(60, 64, 67, 0.3), 0px 1px 3px 1px rgba(60, 64, 67, 0.15);\n",
              "      fill: #174EA6;\n",
              "    }\n",
              "\n",
              "    [theme=dark] .colab-df-convert {\n",
              "      background-color: #3B4455;\n",
              "      fill: #D2E3FC;\n",
              "    }\n",
              "\n",
              "    [theme=dark] .colab-df-convert:hover {\n",
              "      background-color: #434B5C;\n",
              "      box-shadow: 0px 1px 3px 1px rgba(0, 0, 0, 0.15);\n",
              "      filter: drop-shadow(0px 1px 2px rgba(0, 0, 0, 0.3));\n",
              "      fill: #FFFFFF;\n",
              "    }\n",
              "  </style>\n",
              "\n",
              "      <script>\n",
              "        const buttonEl =\n",
              "          document.querySelector('#df-14070720-3576-43c3-ad5c-709bf77a3630 button.colab-df-convert');\n",
              "        buttonEl.style.display =\n",
              "          google.colab.kernel.accessAllowed ? 'block' : 'none';\n",
              "\n",
              "        async function convertToInteractive(key) {\n",
              "          const element = document.querySelector('#df-14070720-3576-43c3-ad5c-709bf77a3630');\n",
              "          const dataTable =\n",
              "            await google.colab.kernel.invokeFunction('convertToInteractive',\n",
              "                                                     [key], {});\n",
              "          if (!dataTable) return;\n",
              "\n",
              "          const docLinkHtml = 'Like what you see? Visit the ' +\n",
              "            '<a target=\"_blank\" href=https://colab.research.google.com/notebooks/data_table.ipynb>data table notebook</a>'\n",
              "            + ' to learn more about interactive tables.';\n",
              "          element.innerHTML = '';\n",
              "          dataTable['output_type'] = 'display_data';\n",
              "          await google.colab.output.renderOutput(dataTable, element);\n",
              "          const docLink = document.createElement('div');\n",
              "          docLink.innerHTML = docLinkHtml;\n",
              "          element.appendChild(docLink);\n",
              "        }\n",
              "      </script>\n",
              "    </div>\n",
              "  </div>\n",
              "  "
            ]
          },
          "metadata": {},
          "execution_count": 5
        }
      ],
      "source": [
        "df.head()"
      ]
    },
    {
      "cell_type": "code",
      "execution_count": 6,
      "metadata": {
        "colab": {
          "base_uri": "https://localhost:8080/",
          "height": 364
        },
        "id": "4ckAhn0p-hCv",
        "outputId": "74b4c38e-52d8-4711-d022-d1bb6da7d114"
      },
      "outputs": [
        {
          "output_type": "execute_result",
          "data": {
            "text/plain": [
              "           Severity     Start_Lat     Start_Lng       End_Lat       End_Lng  \\\n",
              "count  2.845342e+06  2.845342e+06  2.845342e+06  2.845342e+06  2.845342e+06   \n",
              "mean   2.137572e+00  3.624520e+01 -9.711463e+01  3.624532e+01 -9.711439e+01   \n",
              "std    4.787216e-01  5.363797e+00  1.831782e+01  5.363873e+00  1.831763e+01   \n",
              "min    1.000000e+00  2.456603e+01 -1.245481e+02  2.456601e+01 -1.245457e+02   \n",
              "25%    2.000000e+00  3.344517e+01 -1.180331e+02  3.344628e+01 -1.180333e+02   \n",
              "50%    2.000000e+00  3.609861e+01 -9.241808e+01  3.609799e+01 -9.241772e+01   \n",
              "75%    2.000000e+00  4.016024e+01 -8.037243e+01  4.016105e+01 -8.037338e+01   \n",
              "max    4.000000e+00  4.900058e+01 -6.711317e+01  4.907500e+01 -6.710924e+01   \n",
              "\n",
              "       Distance(mi)        Number  Temperature(F)  Wind_Chill(F)  \\\n",
              "count  2.845342e+06  1.101431e+06    2.776068e+06   2.375699e+06   \n",
              "mean   7.026779e-01  8.089408e+03    6.179356e+01   5.965823e+01   \n",
              "std    1.560361e+00  1.836009e+04    1.862263e+01   2.116097e+01   \n",
              "min    0.000000e+00  0.000000e+00   -8.900000e+01  -8.900000e+01   \n",
              "25%    5.200000e-02  1.270000e+03    5.000000e+01   4.600000e+01   \n",
              "50%    2.440000e-01  4.007000e+03    6.400000e+01   6.300000e+01   \n",
              "75%    7.640000e-01  9.567000e+03    7.600000e+01   7.600000e+01   \n",
              "max    1.551860e+02  9.999997e+06    1.960000e+02   1.960000e+02   \n",
              "\n",
              "        Humidity(%)  Pressure(in)  Visibility(mi)  Wind_Speed(mph)  \\\n",
              "count  2.772250e+06  2.786142e+06    2.774796e+06     2.687398e+06   \n",
              "mean   6.436545e+01  2.947234e+01    9.099391e+00     7.395044e+00   \n",
              "std    2.287457e+01  1.045286e+00    2.717546e+00     5.527454e+00   \n",
              "min    1.000000e+00  0.000000e+00    0.000000e+00     0.000000e+00   \n",
              "25%    4.800000e+01  2.931000e+01    1.000000e+01     3.500000e+00   \n",
              "50%    6.700000e+01  2.982000e+01    1.000000e+01     7.000000e+00   \n",
              "75%    8.300000e+01  3.001000e+01    1.000000e+01     1.000000e+01   \n",
              "max    1.000000e+02  5.890000e+01    1.400000e+02     1.087000e+03   \n",
              "\n",
              "       Precipitation(in)  \n",
              "count       2.295884e+06  \n",
              "mean        7.016940e-03  \n",
              "std         9.348831e-02  \n",
              "min         0.000000e+00  \n",
              "25%         0.000000e+00  \n",
              "50%         0.000000e+00  \n",
              "75%         0.000000e+00  \n",
              "max         2.400000e+01  "
            ],
            "text/html": [
              "\n",
              "  <div id=\"df-48d55b34-6dc3-40e6-ba2c-0bda19c7e2d1\">\n",
              "    <div class=\"colab-df-container\">\n",
              "      <div>\n",
              "<style scoped>\n",
              "    .dataframe tbody tr th:only-of-type {\n",
              "        vertical-align: middle;\n",
              "    }\n",
              "\n",
              "    .dataframe tbody tr th {\n",
              "        vertical-align: top;\n",
              "    }\n",
              "\n",
              "    .dataframe thead th {\n",
              "        text-align: right;\n",
              "    }\n",
              "</style>\n",
              "<table border=\"1\" class=\"dataframe\">\n",
              "  <thead>\n",
              "    <tr style=\"text-align: right;\">\n",
              "      <th></th>\n",
              "      <th>Severity</th>\n",
              "      <th>Start_Lat</th>\n",
              "      <th>Start_Lng</th>\n",
              "      <th>End_Lat</th>\n",
              "      <th>End_Lng</th>\n",
              "      <th>Distance(mi)</th>\n",
              "      <th>Number</th>\n",
              "      <th>Temperature(F)</th>\n",
              "      <th>Wind_Chill(F)</th>\n",
              "      <th>Humidity(%)</th>\n",
              "      <th>Pressure(in)</th>\n",
              "      <th>Visibility(mi)</th>\n",
              "      <th>Wind_Speed(mph)</th>\n",
              "      <th>Precipitation(in)</th>\n",
              "    </tr>\n",
              "  </thead>\n",
              "  <tbody>\n",
              "    <tr>\n",
              "      <th>count</th>\n",
              "      <td>2.845342e+06</td>\n",
              "      <td>2.845342e+06</td>\n",
              "      <td>2.845342e+06</td>\n",
              "      <td>2.845342e+06</td>\n",
              "      <td>2.845342e+06</td>\n",
              "      <td>2.845342e+06</td>\n",
              "      <td>1.101431e+06</td>\n",
              "      <td>2.776068e+06</td>\n",
              "      <td>2.375699e+06</td>\n",
              "      <td>2.772250e+06</td>\n",
              "      <td>2.786142e+06</td>\n",
              "      <td>2.774796e+06</td>\n",
              "      <td>2.687398e+06</td>\n",
              "      <td>2.295884e+06</td>\n",
              "    </tr>\n",
              "    <tr>\n",
              "      <th>mean</th>\n",
              "      <td>2.137572e+00</td>\n",
              "      <td>3.624520e+01</td>\n",
              "      <td>-9.711463e+01</td>\n",
              "      <td>3.624532e+01</td>\n",
              "      <td>-9.711439e+01</td>\n",
              "      <td>7.026779e-01</td>\n",
              "      <td>8.089408e+03</td>\n",
              "      <td>6.179356e+01</td>\n",
              "      <td>5.965823e+01</td>\n",
              "      <td>6.436545e+01</td>\n",
              "      <td>2.947234e+01</td>\n",
              "      <td>9.099391e+00</td>\n",
              "      <td>7.395044e+00</td>\n",
              "      <td>7.016940e-03</td>\n",
              "    </tr>\n",
              "    <tr>\n",
              "      <th>std</th>\n",
              "      <td>4.787216e-01</td>\n",
              "      <td>5.363797e+00</td>\n",
              "      <td>1.831782e+01</td>\n",
              "      <td>5.363873e+00</td>\n",
              "      <td>1.831763e+01</td>\n",
              "      <td>1.560361e+00</td>\n",
              "      <td>1.836009e+04</td>\n",
              "      <td>1.862263e+01</td>\n",
              "      <td>2.116097e+01</td>\n",
              "      <td>2.287457e+01</td>\n",
              "      <td>1.045286e+00</td>\n",
              "      <td>2.717546e+00</td>\n",
              "      <td>5.527454e+00</td>\n",
              "      <td>9.348831e-02</td>\n",
              "    </tr>\n",
              "    <tr>\n",
              "      <th>min</th>\n",
              "      <td>1.000000e+00</td>\n",
              "      <td>2.456603e+01</td>\n",
              "      <td>-1.245481e+02</td>\n",
              "      <td>2.456601e+01</td>\n",
              "      <td>-1.245457e+02</td>\n",
              "      <td>0.000000e+00</td>\n",
              "      <td>0.000000e+00</td>\n",
              "      <td>-8.900000e+01</td>\n",
              "      <td>-8.900000e+01</td>\n",
              "      <td>1.000000e+00</td>\n",
              "      <td>0.000000e+00</td>\n",
              "      <td>0.000000e+00</td>\n",
              "      <td>0.000000e+00</td>\n",
              "      <td>0.000000e+00</td>\n",
              "    </tr>\n",
              "    <tr>\n",
              "      <th>25%</th>\n",
              "      <td>2.000000e+00</td>\n",
              "      <td>3.344517e+01</td>\n",
              "      <td>-1.180331e+02</td>\n",
              "      <td>3.344628e+01</td>\n",
              "      <td>-1.180333e+02</td>\n",
              "      <td>5.200000e-02</td>\n",
              "      <td>1.270000e+03</td>\n",
              "      <td>5.000000e+01</td>\n",
              "      <td>4.600000e+01</td>\n",
              "      <td>4.800000e+01</td>\n",
              "      <td>2.931000e+01</td>\n",
              "      <td>1.000000e+01</td>\n",
              "      <td>3.500000e+00</td>\n",
              "      <td>0.000000e+00</td>\n",
              "    </tr>\n",
              "    <tr>\n",
              "      <th>50%</th>\n",
              "      <td>2.000000e+00</td>\n",
              "      <td>3.609861e+01</td>\n",
              "      <td>-9.241808e+01</td>\n",
              "      <td>3.609799e+01</td>\n",
              "      <td>-9.241772e+01</td>\n",
              "      <td>2.440000e-01</td>\n",
              "      <td>4.007000e+03</td>\n",
              "      <td>6.400000e+01</td>\n",
              "      <td>6.300000e+01</td>\n",
              "      <td>6.700000e+01</td>\n",
              "      <td>2.982000e+01</td>\n",
              "      <td>1.000000e+01</td>\n",
              "      <td>7.000000e+00</td>\n",
              "      <td>0.000000e+00</td>\n",
              "    </tr>\n",
              "    <tr>\n",
              "      <th>75%</th>\n",
              "      <td>2.000000e+00</td>\n",
              "      <td>4.016024e+01</td>\n",
              "      <td>-8.037243e+01</td>\n",
              "      <td>4.016105e+01</td>\n",
              "      <td>-8.037338e+01</td>\n",
              "      <td>7.640000e-01</td>\n",
              "      <td>9.567000e+03</td>\n",
              "      <td>7.600000e+01</td>\n",
              "      <td>7.600000e+01</td>\n",
              "      <td>8.300000e+01</td>\n",
              "      <td>3.001000e+01</td>\n",
              "      <td>1.000000e+01</td>\n",
              "      <td>1.000000e+01</td>\n",
              "      <td>0.000000e+00</td>\n",
              "    </tr>\n",
              "    <tr>\n",
              "      <th>max</th>\n",
              "      <td>4.000000e+00</td>\n",
              "      <td>4.900058e+01</td>\n",
              "      <td>-6.711317e+01</td>\n",
              "      <td>4.907500e+01</td>\n",
              "      <td>-6.710924e+01</td>\n",
              "      <td>1.551860e+02</td>\n",
              "      <td>9.999997e+06</td>\n",
              "      <td>1.960000e+02</td>\n",
              "      <td>1.960000e+02</td>\n",
              "      <td>1.000000e+02</td>\n",
              "      <td>5.890000e+01</td>\n",
              "      <td>1.400000e+02</td>\n",
              "      <td>1.087000e+03</td>\n",
              "      <td>2.400000e+01</td>\n",
              "    </tr>\n",
              "  </tbody>\n",
              "</table>\n",
              "</div>\n",
              "      <button class=\"colab-df-convert\" onclick=\"convertToInteractive('df-48d55b34-6dc3-40e6-ba2c-0bda19c7e2d1')\"\n",
              "              title=\"Convert this dataframe to an interactive table.\"\n",
              "              style=\"display:none;\">\n",
              "        \n",
              "  <svg xmlns=\"http://www.w3.org/2000/svg\" height=\"24px\"viewBox=\"0 0 24 24\"\n",
              "       width=\"24px\">\n",
              "    <path d=\"M0 0h24v24H0V0z\" fill=\"none\"/>\n",
              "    <path d=\"M18.56 5.44l.94 2.06.94-2.06 2.06-.94-2.06-.94-.94-2.06-.94 2.06-2.06.94zm-11 1L8.5 8.5l.94-2.06 2.06-.94-2.06-.94L8.5 2.5l-.94 2.06-2.06.94zm10 10l.94 2.06.94-2.06 2.06-.94-2.06-.94-.94-2.06-.94 2.06-2.06.94z\"/><path d=\"M17.41 7.96l-1.37-1.37c-.4-.4-.92-.59-1.43-.59-.52 0-1.04.2-1.43.59L10.3 9.45l-7.72 7.72c-.78.78-.78 2.05 0 2.83L4 21.41c.39.39.9.59 1.41.59.51 0 1.02-.2 1.41-.59l7.78-7.78 2.81-2.81c.8-.78.8-2.07 0-2.86zM5.41 20L4 18.59l7.72-7.72 1.47 1.35L5.41 20z\"/>\n",
              "  </svg>\n",
              "      </button>\n",
              "      \n",
              "  <style>\n",
              "    .colab-df-container {\n",
              "      display:flex;\n",
              "      flex-wrap:wrap;\n",
              "      gap: 12px;\n",
              "    }\n",
              "\n",
              "    .colab-df-convert {\n",
              "      background-color: #E8F0FE;\n",
              "      border: none;\n",
              "      border-radius: 50%;\n",
              "      cursor: pointer;\n",
              "      display: none;\n",
              "      fill: #1967D2;\n",
              "      height: 32px;\n",
              "      padding: 0 0 0 0;\n",
              "      width: 32px;\n",
              "    }\n",
              "\n",
              "    .colab-df-convert:hover {\n",
              "      background-color: #E2EBFA;\n",
              "      box-shadow: 0px 1px 2px rgba(60, 64, 67, 0.3), 0px 1px 3px 1px rgba(60, 64, 67, 0.15);\n",
              "      fill: #174EA6;\n",
              "    }\n",
              "\n",
              "    [theme=dark] .colab-df-convert {\n",
              "      background-color: #3B4455;\n",
              "      fill: #D2E3FC;\n",
              "    }\n",
              "\n",
              "    [theme=dark] .colab-df-convert:hover {\n",
              "      background-color: #434B5C;\n",
              "      box-shadow: 0px 1px 3px 1px rgba(0, 0, 0, 0.15);\n",
              "      filter: drop-shadow(0px 1px 2px rgba(0, 0, 0, 0.3));\n",
              "      fill: #FFFFFF;\n",
              "    }\n",
              "  </style>\n",
              "\n",
              "      <script>\n",
              "        const buttonEl =\n",
              "          document.querySelector('#df-48d55b34-6dc3-40e6-ba2c-0bda19c7e2d1 button.colab-df-convert');\n",
              "        buttonEl.style.display =\n",
              "          google.colab.kernel.accessAllowed ? 'block' : 'none';\n",
              "\n",
              "        async function convertToInteractive(key) {\n",
              "          const element = document.querySelector('#df-48d55b34-6dc3-40e6-ba2c-0bda19c7e2d1');\n",
              "          const dataTable =\n",
              "            await google.colab.kernel.invokeFunction('convertToInteractive',\n",
              "                                                     [key], {});\n",
              "          if (!dataTable) return;\n",
              "\n",
              "          const docLinkHtml = 'Like what you see? Visit the ' +\n",
              "            '<a target=\"_blank\" href=https://colab.research.google.com/notebooks/data_table.ipynb>data table notebook</a>'\n",
              "            + ' to learn more about interactive tables.';\n",
              "          element.innerHTML = '';\n",
              "          dataTable['output_type'] = 'display_data';\n",
              "          await google.colab.output.renderOutput(dataTable, element);\n",
              "          const docLink = document.createElement('div');\n",
              "          docLink.innerHTML = docLinkHtml;\n",
              "          element.appendChild(docLink);\n",
              "        }\n",
              "      </script>\n",
              "    </div>\n",
              "  </div>\n",
              "  "
            ]
          },
          "metadata": {},
          "execution_count": 6
        }
      ],
      "source": [
        "\n",
        "df.describe()"
      ]
    },
    {
      "cell_type": "code",
      "execution_count": 7,
      "metadata": {
        "colab": {
          "base_uri": "https://localhost:8080/"
        },
        "id": "0NM65P8D-hFr",
        "outputId": "6dda74ee-06b2-451d-d11d-cb6f7eaaecf8"
      },
      "outputs": [
        {
          "output_type": "execute_result",
          "data": {
            "text/plain": [
              "(2845342, 47)"
            ]
          },
          "metadata": {},
          "execution_count": 7
        }
      ],
      "source": [
        "df.shape"
      ]
    },
    {
      "cell_type": "code",
      "execution_count": 8,
      "metadata": {
        "id": "KBbbvLd_E42-",
        "colab": {
          "base_uri": "https://localhost:8080/"
        },
        "outputId": "78deda30-4ad6-4d07-d0d5-3764d02c930c"
      },
      "outputs": [
        {
          "output_type": "execute_result",
          "data": {
            "text/plain": [
              "ID                             0\n",
              "Severity                       0\n",
              "Start_Time                     0\n",
              "End_Time                       0\n",
              "Start_Lat                      0\n",
              "Start_Lng                      0\n",
              "End_Lat                        0\n",
              "End_Lng                        0\n",
              "Distance(mi)                   0\n",
              "Description                    0\n",
              "Number                   1743911\n",
              "Street                         2\n",
              "Side                           0\n",
              "City                         137\n",
              "County                         0\n",
              "State                          0\n",
              "Zipcode                     1319\n",
              "Country                        0\n",
              "Timezone                    3659\n",
              "Airport_Code                9549\n",
              "Weather_Timestamp          50736\n",
              "Temperature(F)             69274\n",
              "Wind_Chill(F)             469643\n",
              "Humidity(%)                73092\n",
              "Pressure(in)               59200\n",
              "Visibility(mi)             70546\n",
              "Wind_Direction             73775\n",
              "Wind_Speed(mph)           157944\n",
              "Precipitation(in)         549458\n",
              "Weather_Condition          70636\n",
              "Amenity                        0\n",
              "Bump                           0\n",
              "Crossing                       0\n",
              "Give_Way                       0\n",
              "Junction                       0\n",
              "No_Exit                        0\n",
              "Railway                        0\n",
              "Roundabout                     0\n",
              "Station                        0\n",
              "Stop                           0\n",
              "Traffic_Calming                0\n",
              "Traffic_Signal                 0\n",
              "Turning_Loop                   0\n",
              "Sunrise_Sunset              2867\n",
              "Civil_Twilight              2867\n",
              "Nautical_Twilight           2867\n",
              "Astronomical_Twilight       2867\n",
              "dtype: int64"
            ]
          },
          "metadata": {},
          "execution_count": 8
        }
      ],
      "source": [
        "df.isna().sum()"
      ]
    },
    {
      "cell_type": "code",
      "execution_count": 9,
      "metadata": {
        "colab": {
          "base_uri": "https://localhost:8080/"
        },
        "id": "AIUEkKuhFEPG",
        "outputId": "ccd04b9a-b6d8-4fca-913f-29bf4329afa1"
      },
      "outputs": [
        {
          "output_type": "execute_result",
          "data": {
            "text/plain": [
              "Index(['ID', 'Severity', 'Start_Time', 'End_Time', 'Start_Lat', 'Start_Lng',\n",
              "       'End_Lat', 'End_Lng', 'Distance(mi)', 'Description', 'Number', 'Street',\n",
              "       'Side', 'City', 'County', 'State', 'Zipcode', 'Country', 'Timezone',\n",
              "       'Airport_Code', 'Weather_Timestamp', 'Temperature(F)', 'Wind_Chill(F)',\n",
              "       'Humidity(%)', 'Pressure(in)', 'Visibility(mi)', 'Wind_Direction',\n",
              "       'Wind_Speed(mph)', 'Precipitation(in)', 'Weather_Condition', 'Amenity',\n",
              "       'Bump', 'Crossing', 'Give_Way', 'Junction', 'No_Exit', 'Railway',\n",
              "       'Roundabout', 'Station', 'Stop', 'Traffic_Calming', 'Traffic_Signal',\n",
              "       'Turning_Loop', 'Sunrise_Sunset', 'Civil_Twilight', 'Nautical_Twilight',\n",
              "       'Astronomical_Twilight'],\n",
              "      dtype='object')"
            ]
          },
          "metadata": {},
          "execution_count": 9
        }
      ],
      "source": [
        "df.columns\n"
      ]
    },
    {
      "cell_type": "code",
      "execution_count": 10,
      "metadata": {
        "colab": {
          "base_uri": "https://localhost:8080/"
        },
        "id": "kCBd_a9aGh_X",
        "outputId": "74b0be62-6ab9-4ab0-e30b-ff173a1c9acc"
      },
      "outputs": [
        {
          "output_type": "stream",
          "name": "stdout",
          "text": [
            "<class 'pandas.core.frame.DataFrame'>\n",
            "RangeIndex: 2845342 entries, 0 to 2845341\n",
            "Data columns (total 47 columns):\n",
            " #   Column                 Dtype  \n",
            "---  ------                 -----  \n",
            " 0   ID                     object \n",
            " 1   Severity               int64  \n",
            " 2   Start_Time             object \n",
            " 3   End_Time               object \n",
            " 4   Start_Lat              float64\n",
            " 5   Start_Lng              float64\n",
            " 6   End_Lat                float64\n",
            " 7   End_Lng                float64\n",
            " 8   Distance(mi)           float64\n",
            " 9   Description            object \n",
            " 10  Number                 float64\n",
            " 11  Street                 object \n",
            " 12  Side                   object \n",
            " 13  City                   object \n",
            " 14  County                 object \n",
            " 15  State                  object \n",
            " 16  Zipcode                object \n",
            " 17  Country                object \n",
            " 18  Timezone               object \n",
            " 19  Airport_Code           object \n",
            " 20  Weather_Timestamp      object \n",
            " 21  Temperature(F)         float64\n",
            " 22  Wind_Chill(F)          float64\n",
            " 23  Humidity(%)            float64\n",
            " 24  Pressure(in)           float64\n",
            " 25  Visibility(mi)         float64\n",
            " 26  Wind_Direction         object \n",
            " 27  Wind_Speed(mph)        float64\n",
            " 28  Precipitation(in)      float64\n",
            " 29  Weather_Condition      object \n",
            " 30  Amenity                bool   \n",
            " 31  Bump                   bool   \n",
            " 32  Crossing               bool   \n",
            " 33  Give_Way               bool   \n",
            " 34  Junction               bool   \n",
            " 35  No_Exit                bool   \n",
            " 36  Railway                bool   \n",
            " 37  Roundabout             bool   \n",
            " 38  Station                bool   \n",
            " 39  Stop                   bool   \n",
            " 40  Traffic_Calming        bool   \n",
            " 41  Traffic_Signal         bool   \n",
            " 42  Turning_Loop           bool   \n",
            " 43  Sunrise_Sunset         object \n",
            " 44  Civil_Twilight         object \n",
            " 45  Nautical_Twilight      object \n",
            " 46  Astronomical_Twilight  object \n",
            "dtypes: bool(13), float64(13), int64(1), object(20)\n",
            "memory usage: 773.4+ MB\n"
          ]
        }
      ],
      "source": [
        "df.info()"
      ]
    },
    {
      "cell_type": "code",
      "execution_count": 11,
      "metadata": {
        "colab": {
          "base_uri": "https://localhost:8080/"
        },
        "id": "Xwc9SrJJGpp6",
        "outputId": "05efe511-19b8-407b-950b-621cf61cdb14"
      },
      "outputs": [
        {
          "output_type": "execute_result",
          "data": {
            "text/plain": [
              "14"
            ]
          },
          "metadata": {},
          "execution_count": 11
        }
      ],
      "source": [
        "numerics = ['int16', 'int32', 'int64', 'float16', 'float32', 'float64']\n",
        "\n",
        "numeric_df = df.select_dtypes(include=numerics)\n",
        "len(numeric_df.columns)"
      ]
    },
    {
      "cell_type": "markdown",
      "metadata": {
        "id": "xDlfOZaxpkD4"
      },
      "source": [
        "## Percentage of missing values per column\n"
      ]
    },
    {
      "cell_type": "code",
      "execution_count": 12,
      "metadata": {
        "colab": {
          "base_uri": "https://localhost:8080/"
        },
        "id": "NxAb1fcLIM6c",
        "outputId": "5945ae9f-f160-4962-ec5e-af6aea09f818"
      },
      "outputs": [
        {
          "output_type": "execute_result",
          "data": {
            "text/plain": [
              "Number                   61.290031\n",
              "Precipitation(in)        19.310789\n",
              "Wind_Chill(F)            16.505678\n",
              "Wind_Speed(mph)           5.550967\n",
              "Wind_Direction            2.592834\n",
              "Humidity(%)               2.568830\n",
              "Weather_Condition         2.482514\n",
              "Visibility(mi)            2.479350\n",
              "Temperature(F)            2.434646\n",
              "Pressure(in)              2.080593\n",
              "Weather_Timestamp         1.783125\n",
              "Airport_Code              0.335601\n",
              "Timezone                  0.128596\n",
              "Nautical_Twilight         0.100761\n",
              "Civil_Twilight            0.100761\n",
              "Sunrise_Sunset            0.100761\n",
              "Astronomical_Twilight     0.100761\n",
              "Zipcode                   0.046356\n",
              "City                      0.004815\n",
              "Street                    0.000070\n",
              "Country                   0.000000\n",
              "Junction                  0.000000\n",
              "Start_Time                0.000000\n",
              "End_Time                  0.000000\n",
              "Start_Lat                 0.000000\n",
              "Turning_Loop              0.000000\n",
              "Traffic_Signal            0.000000\n",
              "Traffic_Calming           0.000000\n",
              "Stop                      0.000000\n",
              "Station                   0.000000\n",
              "Roundabout                0.000000\n",
              "Railway                   0.000000\n",
              "No_Exit                   0.000000\n",
              "Crossing                  0.000000\n",
              "Give_Way                  0.000000\n",
              "Bump                      0.000000\n",
              "Amenity                   0.000000\n",
              "Start_Lng                 0.000000\n",
              "End_Lat                   0.000000\n",
              "End_Lng                   0.000000\n",
              "Distance(mi)              0.000000\n",
              "Description               0.000000\n",
              "Severity                  0.000000\n",
              "Side                      0.000000\n",
              "County                    0.000000\n",
              "State                     0.000000\n",
              "ID                        0.000000\n",
              "dtype: float64"
            ]
          },
          "metadata": {},
          "execution_count": 12
        }
      ],
      "source": [
        "missing_percent = df.isna().sum().sort_values(ascending=False) *100 / len(df)\n",
        "missing_percent"
      ]
    },
    {
      "cell_type": "code",
      "execution_count": 13,
      "metadata": {
        "colab": {
          "base_uri": "https://localhost:8080/"
        },
        "id": "6iIen_ulpiT5",
        "outputId": "c79469d2-93df-4738-af84-f6e84d949c25"
      },
      "outputs": [
        {
          "output_type": "execute_result",
          "data": {
            "text/plain": [
              "pandas.core.series.Series"
            ]
          },
          "metadata": {},
          "execution_count": 13
        }
      ],
      "source": [
        "type(missing_percent)\n"
      ]
    },
    {
      "cell_type": "code",
      "execution_count": 14,
      "metadata": {
        "colab": {
          "base_uri": "https://localhost:8080/",
          "height": 282
        },
        "id": "92xdpvNMpiMh",
        "outputId": "bce5d598-a549-4b3b-fc40-696f33dc21a0"
      },
      "outputs": [
        {
          "output_type": "execute_result",
          "data": {
            "text/plain": [
              "<matplotlib.axes._subplots.AxesSubplot at 0x7ff9c40cb5e0>"
            ]
          },
          "metadata": {},
          "execution_count": 14
        },
        {
          "output_type": "display_data",
          "data": {
            "text/plain": [
              "<Figure size 432x288 with 1 Axes>"
            ],
            "image/png": "[encoded data removed]"
          },
          "metadata": {
            "needs_background": "light"
          }
        }
      ],
      "source": [
        "missing_percent[missing_percent != 0].plot(kind='barh')"
      ]
    },
    {
      "cell_type": "markdown",
      "metadata": {
        "id": "lsefAt_pu9IS"
      },
      "source": [
        "## Exploratory Analysis and Visualization\n",
        "Columns we'll analyze:\n",
        "\n",
        "1. City\n",
        "2. Start Time\n",
        "3. Start Lat, Start Lng\n",
        "4. Temperature\n",
        "5. Weather Condition\n",
        "\n",
        "\n",
        "\n"
      ]
    },
    {
      "cell_type": "code",
      "execution_count": 15,
      "metadata": {
        "colab": {
          "base_uri": "https://localhost:8080/"
        },
        "id": "izSB6gL0u88x",
        "outputId": "4ebbecf5-7ad1-489e-be27-78e7a5b4214d"
      },
      "outputs": [
        {
          "output_type": "execute_result",
          "data": {
            "text/plain": [
              "Index(['ID', 'Severity', 'Start_Time', 'End_Time', 'Start_Lat', 'Start_Lng',\n",
              "       'End_Lat', 'End_Lng', 'Distance(mi)', 'Description', 'Number', 'Street',\n",
              "       'Side', 'City', 'County', 'State', 'Zipcode', 'Country', 'Timezone',\n",
              "       'Airport_Code', 'Weather_Timestamp', 'Temperature(F)', 'Wind_Chill(F)',\n",
              "       'Humidity(%)', 'Pressure(in)', 'Visibility(mi)', 'Wind_Direction',\n",
              "       'Wind_Speed(mph)', 'Precipitation(in)', 'Weather_Condition', 'Amenity',\n",
              "       'Bump', 'Crossing', 'Give_Way', 'Junction', 'No_Exit', 'Railway',\n",
              "       'Roundabout', 'Station', 'Stop', 'Traffic_Calming', 'Traffic_Signal',\n",
              "       'Turning_Loop', 'Sunrise_Sunset', 'Civil_Twilight', 'Nautical_Twilight',\n",
              "       'Astronomical_Twilight'],\n",
              "      dtype='object')"
            ]
          },
          "metadata": {},
          "execution_count": 15
        }
      ],
      "source": [
        "df.columns"
      ]
    },
    {
      "cell_type": "code",
      "source": [
        "len(df.City.unique())"
      ],
      "metadata": {
        "colab": {
          "base_uri": "https://localhost:8080/"
        },
        "id": "0HDqRIcOdFET",
        "outputId": "49f76765-3999-4eeb-8c84-39362ef9bf30"
      },
      "execution_count": 16,
      "outputs": [
        {
          "output_type": "execute_result",
          "data": {
            "text/plain": [
              "11682"
            ]
          },
          "metadata": {},
          "execution_count": 16
        }
      ]
    },
    {
      "cell_type": "code",
      "execution_count": 17,
      "metadata": {
        "colab": {
          "base_uri": "https://localhost:8080/"
        },
        "id": "FIky3Qeiu86U",
        "outputId": "90b94b9b-1c40-462e-e829-626ad4f0057c"
      },
      "outputs": [
        {
          "output_type": "execute_result",
          "data": {
            "text/plain": [
              "0               Dublin\n",
              "1               Dayton\n",
              "2           Cincinnati\n",
              "3                Akron\n",
              "4           Cincinnati\n",
              "              ...     \n",
              "2845337      Riverside\n",
              "2845338      San Diego\n",
              "2845339         Orange\n",
              "2845340    Culver City\n",
              "2845341       Highland\n",
              "Name: City, Length: 2845342, dtype: object"
            ]
          },
          "metadata": {},
          "execution_count": 17
        }
      ],
      "source": [
        "df.City"
      ]
    },
    {
      "cell_type": "code",
      "execution_count": 18,
      "metadata": {
        "colab": {
          "base_uri": "https://localhost:8080/"
        },
        "id": "yhJbxSNiu81K",
        "outputId": "48d431fa-9158-4c9d-f49d-9e3711882f9b"
      },
      "outputs": [
        {
          "output_type": "execute_result",
          "data": {
            "text/plain": [
              "11682"
            ]
          },
          "metadata": {},
          "execution_count": 18
        }
      ],
      "source": [
        "cities = df.City.unique()\n",
        "len(cities)"
      ]
    },
    {
      "cell_type": "code",
      "execution_count": 19,
      "metadata": {
        "colab": {
          "base_uri": "https://localhost:8080/"
        },
        "id": "5sSkC-hxpiJx",
        "outputId": "ea27dc01-9676-4e2f-e11d-fb3398ab639b"
      },
      "outputs": [
        {
          "output_type": "execute_result",
          "data": {
            "text/plain": [
              "Miami                           106966\n",
              "Los Angeles                      68956\n",
              "Orlando                          54691\n",
              "Dallas                           41979\n",
              "Houston                          39448\n",
              "                                 ...  \n",
              "Ridgedale                            1\n",
              "Sekiu                                1\n",
              "Wooldridge                           1\n",
              "Bullock                              1\n",
              "American Fork-Pleasant Grove         1\n",
              "Name: City, Length: 11681, dtype: int64"
            ]
          },
          "metadata": {},
          "execution_count": 19
        }
      ],
      "source": [
        "cities_by_accidents = df.City.value_counts()\n",
        "cities_by_accidents"
      ]
    },
    {
      "cell_type": "code",
      "execution_count": 20,
      "metadata": {
        "colab": {
          "base_uri": "https://localhost:8080/"
        },
        "id": "g6Gx431Evf-k",
        "outputId": "81a60bb9-cb66-4762-ecaf-2b07c9a0119d"
      },
      "outputs": [
        {
          "output_type": "execute_result",
          "data": {
            "text/plain": [
              "7068"
            ]
          },
          "metadata": {},
          "execution_count": 20
        }
      ],
      "source": [
        "cities_by_accidents['New York']\n"
      ]
    },
    {
      "cell_type": "code",
      "execution_count": 21,
      "metadata": {
        "colab": {
          "base_uri": "https://localhost:8080/",
          "height": 282
        },
        "id": "OUtL0o9gvrfg",
        "outputId": "2cb55159-2ef1-48eb-c531-0aa0eec66bd1"
      },
      "outputs": [
        {
          "output_type": "execute_result",
          "data": {
            "text/plain": [
              "<matplotlib.axes._subplots.AxesSubplot at 0x7ff9c4011c10>"
            ]
          },
          "metadata": {},
          "execution_count": 21
        },
        {
          "output_type": "display_data",
          "data": {
            "text/plain": [
              "<Figure size 432x288 with 1 Axes>"
            ],
            "image/png": "[encoded data removed]"
          },
          "metadata": {
            "needs_background": "light"
          }
        }
      ],
      "source": [
        "cities_by_accidents[:20].plot(kind='barh')\n"
      ]
    },
    {
      "cell_type": "code",
      "execution_count": 22,
      "metadata": {
        "id": "Rwntxu28vwXB"
      },
      "outputs": [],
      "source": [
        "import seaborn as sns\n",
        "sns.set_style(\"darkgrid\") #whitegrid"
      ]
    },
    {
      "cell_type": "code",
      "source": [
        "sns.histplot(cities_by_accidents, log_scale=True)\n"
      ],
      "metadata": {
        "colab": {
          "base_uri": "https://localhost:8080/",
          "height": 300
        },
        "id": "vy045CfpYUuN",
        "outputId": "defb0b2e-47b3-4649-fc4c-a8796b0134ec"
      },
      "execution_count": 23,
      "outputs": [
        {
          "output_type": "execute_result",
          "data": {
            "text/plain": [
              "<matplotlib.axes._subplots.AxesSubplot at 0x7ff9c40e3970>"
            ]
          },
          "metadata": {},
          "execution_count": 23
        },
        {
          "output_type": "display_data",
          "data": {
            "text/plain": [
              "<Figure size 432x288 with 1 Axes>"
            ],
            "image/png": "[encoded data removed]"
          },
          "metadata": {}
        }
      ]
    },
    {
      "cell_type": "code",
      "source": [
        "high_acc_cities = cities_by_accidents[cities_by_accidents >=1000]\n",
        "len(high_acc_cities)"
      ],
      "metadata": {
        "colab": {
          "base_uri": "https://localhost:8080/"
        },
        "id": "_1zC0PsPYUws",
        "outputId": "8e593cb1-3e86-4a1f-fe0f-0df35a946e27"
      },
      "execution_count": 24,
      "outputs": [
        {
          "output_type": "execute_result",
          "data": {
            "text/plain": [
              "496"
            ]
          },
          "metadata": {},
          "execution_count": 24
        }
      ]
    },
    {
      "cell_type": "code",
      "source": [
        "less_acc_cities = cities_by_accidents[cities_by_accidents < 1000]\n",
        "len(less_acc_cities)"
      ],
      "metadata": {
        "colab": {
          "base_uri": "https://localhost:8080/"
        },
        "id": "teYMiA45YUy9",
        "outputId": "d9fd2126-f116-4cab-a2d4-6110ffbc3db9"
      },
      "execution_count": 25,
      "outputs": [
        {
          "output_type": "execute_result",
          "data": {
            "text/plain": [
              "11185"
            ]
          },
          "metadata": {},
          "execution_count": 25
        }
      ]
    },
    {
      "cell_type": "code",
      "source": [
        "len(cities_by_accidents)"
      ],
      "metadata": {
        "colab": {
          "base_uri": "https://localhost:8080/"
        },
        "id": "ZKqb9gz1YU1M",
        "outputId": "d89211f9-8509-4399-a18b-ef9fc943489b"
      },
      "execution_count": 26,
      "outputs": [
        {
          "output_type": "execute_result",
          "data": {
            "text/plain": [
              "11681"
            ]
          },
          "metadata": {},
          "execution_count": 26
        }
      ]
    },
    {
      "cell_type": "code",
      "source": [
        "len(high_acc_cities) / len(cities_by_accidents)"
      ],
      "metadata": {
        "colab": {
          "base_uri": "https://localhost:8080/"
        },
        "id": "hDcEX5DQYU6G",
        "outputId": "7ba6db71-a04a-40c7-f768-536ce918872b"
      },
      "execution_count": 27,
      "outputs": [
        {
          "output_type": "execute_result",
          "data": {
            "text/plain": [
              "0.04246211796935194"
            ]
          },
          "metadata": {},
          "execution_count": 27
        }
      ]
    },
    {
      "cell_type": "code",
      "source": [
        "df1= df[df.City == 'New York']\n",
        "df1"
      ],
      "metadata": {
        "colab": {
          "base_uri": "https://localhost:8080/",
          "height": 1000
        },
        "id": "mtfr36l8YU78",
        "outputId": "09a2d74c-b739-4963-f552-d81ed116e71a"
      },
      "execution_count": 28,
      "outputs": [
        {
          "output_type": "execute_result",
          "data": {
            "text/plain": [
              "                ID  Severity           Start_Time             End_Time  \\\n",
              "31580      A-31581         2  2016-11-30 15:58:59  2016-11-30 21:58:59   \n",
              "31625      A-31626         2  2016-11-30 17:31:55  2016-11-30 23:31:55   \n",
              "31710      A-31711         3  2016-11-26 22:57:16  2016-12-01 04:44:45   \n",
              "31901      A-31902         3  2016-12-01 12:14:13  2016-12-01 18:14:13   \n",
              "32073      A-32074         2  2016-12-01 18:54:49  2016-12-02 00:54:49   \n",
              "...            ...       ...                  ...                  ...   \n",
              "2843385  A-2843386         2  2019-08-20 14:54:26  2019-08-20 15:23:31   \n",
              "2843916  A-2843917         2  2019-08-21 17:32:29  2019-08-21 18:01:32   \n",
              "2844444  A-2844445         2  2019-08-22 08:16:10  2019-08-22 08:44:59   \n",
              "2844464  A-2844465         2  2019-08-22 15:14:32  2019-08-22 15:44:00   \n",
              "2844953  A-2844954         2  2019-08-23 10:04:09  2019-08-23 10:31:58   \n",
              "\n",
              "         Start_Lat  Start_Lng    End_Lat    End_Lng  Distance(mi)  \\\n",
              "31580    40.850020 -73.943990  40.853290 -73.960640         0.899   \n",
              "31625    40.771460 -73.946580  40.768780 -73.949060         0.226   \n",
              "31710    40.762979 -73.973938  40.762956 -73.973953         0.002   \n",
              "31901    40.744340 -73.971240  40.748080 -73.967930         0.311   \n",
              "32073    40.710680 -74.002720  40.701550 -73.991290         0.870   \n",
              "...            ...        ...        ...        ...           ...   \n",
              "2843385  40.737500 -73.974270  40.739760 -73.972910         0.172   \n",
              "2843916  40.850020 -73.943992  40.853290 -73.960640         0.899   \n",
              "2844444  40.760390 -73.962860  40.752581 -73.944912         1.083   \n",
              "2844464  40.748080 -73.967930  40.751223 -73.965275         0.258   \n",
              "2844953  40.850020 -73.943992  40.853290 -73.960640         0.899   \n",
              "\n",
              "                                               Description  ...  Roundabout  \\\n",
              "31580    Between Amsterdam Ave/Harlem River Dr and Huds...  ...       False   \n",
              "31625                               At 79th St - Accident.  ...       False   \n",
              "31710      Between 65th St/66th St and 34th St - Accident.  ...       False   \n",
              "31901                        At 42nd St/Exit 9 - Accident.  ...       False   \n",
              "32073       Between Centre St and Cadman Plaza - Accident.  ...       False   \n",
              "...                                                    ...  ...         ...   \n",
              "2843385  At I-495/Midtown Tunnel/Exit 8 - Accident. Lan...  ...       False   \n",
              "2843916  Between RT-9A/Henry Hudson Pky and Hudson Ter/...  ...       False   \n",
              "2844444  At Beginning of Bridge - Accident. Left lane b...  ...       False   \n",
              "2844464  At 49th St/Exit 10 - Accident. Left lane blocked.  ...       False   \n",
              "2844953  Between RT-9A/Henry Hudson Pky and Hudson Ter/...  ...       False   \n",
              "\n",
              "        Station   Stop Traffic_Calming Traffic_Signal Turning_Loop  \\\n",
              "31580     False  False           False          False        False   \n",
              "31625     False  False           False          False        False   \n",
              "31710     False  False           False           True        False   \n",
              "31901     False  False           False           True        False   \n",
              "32073     False  False           False          False        False   \n",
              "...         ...    ...             ...            ...          ...   \n",
              "2843385   False  False           False          False        False   \n",
              "2843916   False  False           False          False        False   \n",
              "2844444   False  False           False          False        False   \n",
              "2844464   False  False           False          False        False   \n",
              "2844953   False  False           False          False        False   \n",
              "\n",
              "        Sunrise_Sunset Civil_Twilight Nautical_Twilight Astronomical_Twilight  \n",
              "31580              Day            Day               Day                   Day  \n",
              "31625            Night          Night               Day                   Day  \n",
              "31710            Night          Night             Night                 Night  \n",
              "31901              Day            Day               Day                   Day  \n",
              "32073            Night          Night             Night                 Night  \n",
              "...                ...            ...               ...                   ...  \n",
              "2843385            Day            Day               Day                   Day  \n",
              "2843916            Day            Day               Day                   Day  \n",
              "2844444            Day            Day               Day                   Day  \n",
              "2844464            Day            Day               Day                   Day  \n",
              "2844953            Day            Day               Day                   Day  \n",
              "\n",
              "[7068 rows x 47 columns]"
            ],
            "text/html": [
              "\n",
              "  <div id=\"df-d3cb819d-5c7a-407a-83a0-665d5666d0c0\">\n",
              "    <div class=\"colab-df-container\">\n",
              "      <div>\n",
              "<style scoped>\n",
              "    .dataframe tbody tr th:only-of-type {\n",
              "        vertical-align: middle;\n",
              "    }\n",
              "\n",
              "    .dataframe tbody tr th {\n",
              "        vertical-align: top;\n",
              "    }\n",
              "\n",
              "    .dataframe thead th {\n",
              "        text-align: right;\n",
              "    }\n",
              "</style>\n",
              "<table border=\"1\" class=\"dataframe\">\n",
              "  <thead>\n",
              "    <tr style=\"text-align: right;\">\n",
              "      <th></th>\n",
              "      <th>ID</th>\n",
              "      <th>Severity</th>\n",
              "      <th>Start_Time</th>\n",
              "      <th>End_Time</th>\n",
              "      <th>Start_Lat</th>\n",
              "      <th>Start_Lng</th>\n",
              "      <th>End_Lat</th>\n",
              "      <th>End_Lng</th>\n",
              "      <th>Distance(mi)</th>\n",
              "      <th>Description</th>\n",
              "      <th>...</th>\n",
              "      <th>Roundabout</th>\n",
              "      <th>Station</th>\n",
              "      <th>Stop</th>\n",
              "      <th>Traffic_Calming</th>\n",
              "      <th>Traffic_Signal</th>\n",
              "      <th>Turning_Loop</th>\n",
              "      <th>Sunrise_Sunset</th>\n",
              "      <th>Civil_Twilight</th>\n",
              "      <th>Nautical_Twilight</th>\n",
              "      <th>Astronomical_Twilight</th>\n",
              "    </tr>\n",
              "  </thead>\n",
              "  <tbody>\n",
              "    <tr>\n",
              "      <th>31580</th>\n",
              "      <td>A-31581</td>\n",
              "      <td>2</td>\n",
              "      <td>2016-11-30 15:58:59</td>\n",
              "      <td>2016-11-30 21:58:59</td>\n",
              "      <td>40.850020</td>\n",
              "      <td>-73.943990</td>\n",
              "      <td>40.853290</td>\n",
              "      <td>-73.960640</td>\n",
              "      <td>0.899</td>\n",
              "      <td>Between Amsterdam Ave/Harlem River Dr and Huds...</td>\n",
              "      <td>...</td>\n",
              "      <td>False</td>\n",
              "      <td>False</td>\n",
              "      <td>False</td>\n",
              "      <td>False</td>\n",
              "      <td>False</td>\n",
              "      <td>False</td>\n",
              "      <td>Day</td>\n",
              "      <td>Day</td>\n",
              "      <td>Day</td>\n",
              "      <td>Day</td>\n",
              "    </tr>\n",
              "    <tr>\n",
              "      <th>31625</th>\n",
              "      <td>A-31626</td>\n",
              "      <td>2</td>\n",
              "      <td>2016-11-30 17:31:55</td>\n",
              "      <td>2016-11-30 23:31:55</td>\n",
              "      <td>40.771460</td>\n",
              "      <td>-73.946580</td>\n",
              "      <td>40.768780</td>\n",
              "      <td>-73.949060</td>\n",
              "      <td>0.226</td>\n",
              "      <td>At 79th St - Accident.</td>\n",
              "      <td>...</td>\n",
              "      <td>False</td>\n",
              "      <td>False</td>\n",
              "      <td>False</td>\n",
              "      <td>False</td>\n",
              "      <td>False</td>\n",
              "      <td>False</td>\n",
              "      <td>Night</td>\n",
              "      <td>Night</td>\n",
              "      <td>Day</td>\n",
              "      <td>Day</td>\n",
              "    </tr>\n",
              "    <tr>\n",
              "      <th>31710</th>\n",
              "      <td>A-31711</td>\n",
              "      <td>3</td>\n",
              "      <td>2016-11-26 22:57:16</td>\n",
              "      <td>2016-12-01 04:44:45</td>\n",
              "      <td>40.762979</td>\n",
              "      <td>-73.973938</td>\n",
              "      <td>40.762956</td>\n",
              "      <td>-73.973953</td>\n",
              "      <td>0.002</td>\n",
              "      <td>Between 65th St/66th St and 34th St - Accident.</td>\n",
              "      <td>...</td>\n",
              "      <td>False</td>\n",
              "      <td>False</td>\n",
              "      <td>False</td>\n",
              "      <td>False</td>\n",
              "      <td>True</td>\n",
              "      <td>False</td>\n",
              "      <td>Night</td>\n",
              "      <td>Night</td>\n",
              "      <td>Night</td>\n",
              "      <td>Night</td>\n",
              "    </tr>\n",
              "    <tr>\n",
              "      <th>31901</th>\n",
              "      <td>A-31902</td>\n",
              "      <td>3</td>\n",
              "      <td>2016-12-01 12:14:13</td>\n",
              "      <td>2016-12-01 18:14:13</td>\n",
              "      <td>40.744340</td>\n",
              "      <td>-73.971240</td>\n",
              "      <td>40.748080</td>\n",
              "      <td>-73.967930</td>\n",
              "      <td>0.311</td>\n",
              "      <td>At 42nd St/Exit 9 - Accident.</td>\n",
              "      <td>...</td>\n",
              "      <td>False</td>\n",
              "      <td>False</td>\n",
              "      <td>False</td>\n",
              "      <td>False</td>\n",
              "      <td>True</td>\n",
              "      <td>False</td>\n",
              "      <td>Day</td>\n",
              "      <td>Day</td>\n",
              "      <td>Day</td>\n",
              "      <td>Day</td>\n",
              "    </tr>\n",
              "    <tr>\n",
              "      <th>32073</th>\n",
              "      <td>A-32074</td>\n",
              "      <td>2</td>\n",
              "      <td>2016-12-01 18:54:49</td>\n",
              "      <td>2016-12-02 00:54:49</td>\n",
              "      <td>40.710680</td>\n",
              "      <td>-74.002720</td>\n",
              "      <td>40.701550</td>\n",
              "      <td>-73.991290</td>\n",
              "      <td>0.870</td>\n",
              "      <td>Between Centre St and Cadman Plaza - Accident.</td>\n",
              "      <td>...</td>\n",
              "      <td>False</td>\n",
              "      <td>False</td>\n",
              "      <td>False</td>\n",
              "      <td>False</td>\n",
              "      <td>False</td>\n",
              "      <td>False</td>\n",
              "      <td>Night</td>\n",
              "      <td>Night</td>\n",
              "      <td>Night</td>\n",
              "      <td>Night</td>\n",
              "    </tr>\n",
              "    <tr>\n",
              "      <th>...</th>\n",
              "      <td>...</td>\n",
              "      <td>...</td>\n",
              "      <td>...</td>\n",
              "      <td>...</td>\n",
              "      <td>...</td>\n",
              "      <td>...</td>\n",
              "      <td>...</td>\n",
              "      <td>...</td>\n",
              "      <td>...</td>\n",
              "      <td>...</td>\n",
              "      <td>...</td>\n",
              "      <td>...</td>\n",
              "      <td>...</td>\n",
              "      <td>...</td>\n",
              "      <td>...</td>\n",
              "      <td>...</td>\n",
              "      <td>...</td>\n",
              "      <td>...</td>\n",
              "      <td>...</td>\n",
              "      <td>...</td>\n",
              "      <td>...</td>\n",
              "    </tr>\n",
              "    <tr>\n",
              "      <th>2843385</th>\n",
              "      <td>A-2843386</td>\n",
              "      <td>2</td>\n",
              "      <td>2019-08-20 14:54:26</td>\n",
              "      <td>2019-08-20 15:23:31</td>\n",
              "      <td>40.737500</td>\n",
              "      <td>-73.974270</td>\n",
              "      <td>40.739760</td>\n",
              "      <td>-73.972910</td>\n",
              "      <td>0.172</td>\n",
              "      <td>At I-495/Midtown Tunnel/Exit 8 - Accident. Lan...</td>\n",
              "      <td>...</td>\n",
              "      <td>False</td>\n",
              "      <td>False</td>\n",
              "      <td>False</td>\n",
              "      <td>False</td>\n",
              "      <td>False</td>\n",
              "      <td>False</td>\n",
              "      <td>Day</td>\n",
              "      <td>Day</td>\n",
              "      <td>Day</td>\n",
              "      <td>Day</td>\n",
              "    </tr>\n",
              "    <tr>\n",
              "      <th>2843916</th>\n",
              "      <td>A-2843917</td>\n",
              "      <td>2</td>\n",
              "      <td>2019-08-21 17:32:29</td>\n",
              "      <td>2019-08-21 18:01:32</td>\n",
              "      <td>40.850020</td>\n",
              "      <td>-73.943992</td>\n",
              "      <td>40.853290</td>\n",
              "      <td>-73.960640</td>\n",
              "      <td>0.899</td>\n",
              "      <td>Between RT-9A/Henry Hudson Pky and Hudson Ter/...</td>\n",
              "      <td>...</td>\n",
              "      <td>False</td>\n",
              "      <td>False</td>\n",
              "      <td>False</td>\n",
              "      <td>False</td>\n",
              "      <td>False</td>\n",
              "      <td>False</td>\n",
              "      <td>Day</td>\n",
              "      <td>Day</td>\n",
              "      <td>Day</td>\n",
              "      <td>Day</td>\n",
              "    </tr>\n",
              "    <tr>\n",
              "      <th>2844444</th>\n",
              "      <td>A-2844445</td>\n",
              "      <td>2</td>\n",
              "      <td>2019-08-22 08:16:10</td>\n",
              "      <td>2019-08-22 08:44:59</td>\n",
              "      <td>40.760390</td>\n",
              "      <td>-73.962860</td>\n",
              "      <td>40.752581</td>\n",
              "      <td>-73.944912</td>\n",
              "      <td>1.083</td>\n",
              "      <td>At Beginning of Bridge - Accident. Left lane b...</td>\n",
              "      <td>...</td>\n",
              "      <td>False</td>\n",
              "      <td>False</td>\n",
              "      <td>False</td>\n",
              "      <td>False</td>\n",
              "      <td>False</td>\n",
              "      <td>False</td>\n",
              "      <td>Day</td>\n",
              "      <td>Day</td>\n",
              "      <td>Day</td>\n",
              "      <td>Day</td>\n",
              "    </tr>\n",
              "    <tr>\n",
              "      <th>2844464</th>\n",
              "      <td>A-2844465</td>\n",
              "      <td>2</td>\n",
              "      <td>2019-08-22 15:14:32</td>\n",
              "      <td>2019-08-22 15:44:00</td>\n",
              "      <td>40.748080</td>\n",
              "      <td>-73.967930</td>\n",
              "      <td>40.751223</td>\n",
              "      <td>-73.965275</td>\n",
              "      <td>0.258</td>\n",
              "      <td>At 49th St/Exit 10 - Accident. Left lane blocked.</td>\n",
              "      <td>...</td>\n",
              "      <td>False</td>\n",
              "      <td>False</td>\n",
              "      <td>False</td>\n",
              "      <td>False</td>\n",
              "      <td>False</td>\n",
              "      <td>False</td>\n",
              "      <td>Day</td>\n",
              "      <td>Day</td>\n",
              "      <td>Day</td>\n",
              "      <td>Day</td>\n",
              "    </tr>\n",
              "    <tr>\n",
              "      <th>2844953</th>\n",
              "      <td>A-2844954</td>\n",
              "      <td>2</td>\n",
              "      <td>2019-08-23 10:04:09</td>\n",
              "      <td>2019-08-23 10:31:58</td>\n",
              "      <td>40.850020</td>\n",
              "      <td>-73.943992</td>\n",
              "      <td>40.853290</td>\n",
              "      <td>-73.960640</td>\n",
              "      <td>0.899</td>\n",
              "      <td>Between RT-9A/Henry Hudson Pky and Hudson Ter/...</td>\n",
              "      <td>...</td>\n",
              "      <td>False</td>\n",
              "      <td>False</td>\n",
              "      <td>False</td>\n",
              "      <td>False</td>\n",
              "      <td>False</td>\n",
              "      <td>False</td>\n",
              "      <td>Day</td>\n",
              "      <td>Day</td>\n",
              "      <td>Day</td>\n",
              "      <td>Day</td>\n",
              "    </tr>\n",
              "  </tbody>\n",
              "</table>\n",
              "<p>7068 rows × 47 columns</p>\n",
              "</div>\n",
              "      <button class=\"colab-df-convert\" onclick=\"convertToInteractive('df-d3cb819d-5c7a-407a-83a0-665d5666d0c0')\"\n",
              "              title=\"Convert this dataframe to an interactive table.\"\n",
              "              style=\"display:none;\">\n",
              "        \n",
              "  <svg xmlns=\"http://www.w3.org/2000/svg\" height=\"24px\"viewBox=\"0 0 24 24\"\n",
              "       width=\"24px\">\n",
              "    <path d=\"M0 0h24v24H0V0z\" fill=\"none\"/>\n",
              "    <path d=\"M18.56 5.44l.94 2.06.94-2.06 2.06-.94-2.06-.94-.94-2.06-.94 2.06-2.06.94zm-11 1L8.5 8.5l.94-2.06 2.06-.94-2.06-.94L8.5 2.5l-.94 2.06-2.06.94zm10 10l.94 2.06.94-2.06 2.06-.94-2.06-.94-.94-2.06-.94 2.06-2.06.94z\"/><path d=\"M17.41 7.96l-1.37-1.37c-.4-.4-.92-.59-1.43-.59-.52 0-1.04.2-1.43.59L10.3 9.45l-7.72 7.72c-.78.78-.78 2.05 0 2.83L4 21.41c.39.39.9.59 1.41.59.51 0 1.02-.2 1.41-.59l7.78-7.78 2.81-2.81c.8-.78.8-2.07 0-2.86zM5.41 20L4 18.59l7.72-7.72 1.47 1.35L5.41 20z\"/>\n",
              "  </svg>\n",
              "      </button>\n",
              "      \n",
              "  <style>\n",
              "    .colab-df-container {\n",
              "      display:flex;\n",
              "      flex-wrap:wrap;\n",
              "      gap: 12px;\n",
              "    }\n",
              "\n",
              "    .colab-df-convert {\n",
              "      background-color: #E8F0FE;\n",
              "      border: none;\n",
              "      border-radius: 50%;\n",
              "      cursor: pointer;\n",
              "      display: none;\n",
              "      fill: #1967D2;\n",
              "      height: 32px;\n",
              "      padding: 0 0 0 0;\n",
              "      width: 32px;\n",
              "    }\n",
              "\n",
              "    .colab-df-convert:hover {\n",
              "      background-color: #E2EBFA;\n",
              "      box-shadow: 0px 1px 2px rgba(60, 64, 67, 0.3), 0px 1px 3px 1px rgba(60, 64, 67, 0.15);\n",
              "      fill: #174EA6;\n",
              "    }\n",
              "\n",
              "    [theme=dark] .colab-df-convert {\n",
              "      background-color: #3B4455;\n",
              "      fill: #D2E3FC;\n",
              "    }\n",
              "\n",
              "    [theme=dark] .colab-df-convert:hover {\n",
              "      background-color: #434B5C;\n",
              "      box-shadow: 0px 1px 3px 1px rgba(0, 0, 0, 0.15);\n",
              "      filter: drop-shadow(0px 1px 2px rgba(0, 0, 0, 0.3));\n",
              "      fill: #FFFFFF;\n",
              "    }\n",
              "  </style>\n",
              "\n",
              "      <script>\n",
              "        const buttonEl =\n",
              "          document.querySelector('#df-d3cb819d-5c7a-407a-83a0-665d5666d0c0 button.colab-df-convert');\n",
              "        buttonEl.style.display =\n",
              "          google.colab.kernel.accessAllowed ? 'block' : 'none';\n",
              "\n",
              "        async function convertToInteractive(key) {\n",
              "          const element = document.querySelector('#df-d3cb819d-5c7a-407a-83a0-665d5666d0c0');\n",
              "          const dataTable =\n",
              "            await google.colab.kernel.invokeFunction('convertToInteractive',\n",
              "                                                     [key], {});\n",
              "          if (!dataTable) return;\n",
              "\n",
              "          const docLinkHtml = 'Like what you see? Visit the ' +\n",
              "            '<a target=\"_blank\" href=https://colab.research.google.com/notebooks/data_table.ipynb>data table notebook</a>'\n",
              "            + ' to learn more about interactive tables.';\n",
              "          element.innerHTML = '';\n",
              "          dataTable['output_type'] = 'display_data';\n",
              "          await google.colab.output.renderOutput(dataTable, element);\n",
              "          const docLink = document.createElement('div');\n",
              "          docLink.innerHTML = docLinkHtml;\n",
              "          element.appendChild(docLink);\n",
              "        }\n",
              "      </script>\n",
              "    </div>\n",
              "  </div>\n",
              "  "
            ]
          },
          "metadata": {},
          "execution_count": 28
        }
      ]
    },
    {
      "cell_type": "code",
      "source": [
        "cities_by_accidents[cities_by_accidents == 1]\n"
      ],
      "metadata": {
        "colab": {
          "base_uri": "https://localhost:8080/"
        },
        "id": "f6TM4IuDYU-k",
        "outputId": "f0f4858a-0744-4338-ac36-609caf896e53"
      },
      "execution_count": 29,
      "outputs": [
        {
          "output_type": "execute_result",
          "data": {
            "text/plain": [
              "Carney                          1\n",
              "Waverly Hall                    1\n",
              "Center Sandwich                 1\n",
              "Glen Flora                      1\n",
              "Sulphur Springs                 1\n",
              "                               ..\n",
              "Ridgedale                       1\n",
              "Sekiu                           1\n",
              "Wooldridge                      1\n",
              "Bullock                         1\n",
              "American Fork-Pleasant Grove    1\n",
              "Name: City, Length: 1110, dtype: int64"
            ]
          },
          "metadata": {},
          "execution_count": 29
        }
      ]
    },
    {
      "cell_type": "markdown",
      "source": [
        "# **Start Time**\n"
      ],
      "metadata": {
        "id": "hOMgVXrxkkfL"
      }
    },
    {
      "cell_type": "code",
      "source": [
        "df.Start_Time"
      ],
      "metadata": {
        "colab": {
          "base_uri": "https://localhost:8080/"
        },
        "id": "CjUo8-LTYVBc",
        "outputId": "33dfbd2f-f217-468f-efa1-ce02e5e05c5b"
      },
      "execution_count": 30,
      "outputs": [
        {
          "output_type": "execute_result",
          "data": {
            "text/plain": [
              "0          2016-02-08 00:37:08\n",
              "1          2016-02-08 05:56:20\n",
              "2          2016-02-08 06:15:39\n",
              "3          2016-02-08 06:51:45\n",
              "4          2016-02-08 07:53:43\n",
              "                  ...         \n",
              "2845337    2019-08-23 18:03:25\n",
              "2845338    2019-08-23 19:11:30\n",
              "2845339    2019-08-23 19:00:21\n",
              "2845340    2019-08-23 19:00:21\n",
              "2845341    2019-08-23 18:52:06\n",
              "Name: Start_Time, Length: 2845342, dtype: object"
            ]
          },
          "metadata": {},
          "execution_count": 30
        }
      ]
    },
    {
      "cell_type": "code",
      "source": [
        "df.Start_Time = pd.to_datetime(df.Start_Time)\n",
        "df.Start_Time[0]"
      ],
      "metadata": {
        "colab": {
          "base_uri": "https://localhost:8080/"
        },
        "id": "5RTwXIOVYVEQ",
        "outputId": "82a23c55-15ee-4390-cb51-a52ab2d83412"
      },
      "execution_count": 31,
      "outputs": [
        {
          "output_type": "execute_result",
          "data": {
            "text/plain": [
              "Timestamp('2016-02-08 00:37:08')"
            ]
          },
          "metadata": {},
          "execution_count": 31
        }
      ]
    },
    {
      "cell_type": "code",
      "source": [
        "sns.distplot(df.Start_Time.dt.hour, bins=24, kde=False, norm_hist=True)"
      ],
      "metadata": {
        "colab": {
          "base_uri": "https://localhost:8080/",
          "height": 352
        },
        "id": "eZAq_4n0YVHN",
        "outputId": "7b092e27-ff03-47d2-d84b-bc965e395918"
      },
      "execution_count": 32,
      "outputs": [
        {
          "output_type": "stream",
          "name": "stderr",
          "text": [
            "/usr/local/lib/python3.8/dist-packages/seaborn/distributions.py:2619: FutureWarning: `distplot` is a deprecated function and will be removed in a future version. Please adapt your code to use either `displot` (a figure-level function with similar flexibility) or `histplot` (an axes-level function for histograms).\n",
            "  warnings.warn(msg, FutureWarning)\n"
          ]
        },
        {
          "output_type": "execute_result",
          "data": {
            "text/plain": [
              "<matplotlib.axes._subplots.AxesSubplot at 0x7ff9c40e2730>"
            ]
          },
          "metadata": {},
          "execution_count": 32
        },
        {
          "output_type": "display_data",
          "data": {
            "text/plain": [
              "<Figure size 432x288 with 1 Axes>"
            ],
            "image/png": "[encoded data removed]"
          },
          "metadata": {}
        }
      ]
    },
    {
      "cell_type": "markdown",
      "source": [
        "1. A high percentage of accidents occur between 3 pm to 7 pm (probably people in a hurry to get to home)\n",
        "2. Next higest percentage is 7 am to 9 am.\n"
      ],
      "metadata": {
        "id": "yWp1wSxytHvA"
      }
    },
    {
      "cell_type": "code",
      "source": [
        "sns.distplot(df.Start_Time.dt.dayofweek, bins=7, kde=False, norm_hist=True)"
      ],
      "metadata": {
        "colab": {
          "base_uri": "https://localhost:8080/",
          "height": 297
        },
        "id": "LYDwzvDyYVJl",
        "outputId": "bd9ebb01-4b2d-42f9-d227-218d8288188d"
      },
      "execution_count": 33,
      "outputs": [
        {
          "output_type": "execute_result",
          "data": {
            "text/plain": [
              "<matplotlib.axes._subplots.AxesSubplot at 0x7ff9bc046bb0>"
            ]
          },
          "metadata": {},
          "execution_count": 33
        },
        {
          "output_type": "display_data",
          "data": {
            "text/plain": [
              "<Figure size 432x288 with 1 Axes>"
            ],
            "image/png": "[encoded data removed]"
          },
          "metadata": {}
        }
      ]
    },
    {
      "cell_type": "markdown",
      "source": [
        "\n",
        "Is the distribution of accidents by hour the same on weekends as on weekdays.?\n",
        "\n"
      ],
      "metadata": {
        "id": "f5TxBKs6t1c9"
      }
    },
    {
      "cell_type": "code",
      "source": [
        "sundays_start_time = df.Start_Time[df.Start_Time.dt.dayofweek == 6]\n",
        "sns.distplot(sundays_start_time.dt.hour, bins=24, kde=False, norm_hist=True)"
      ],
      "metadata": {
        "colab": {
          "base_uri": "https://localhost:8080/",
          "height": 297
        },
        "id": "-zP83JvyYVMP",
        "outputId": "8563c440-42bc-45e8-9f0f-0f7b7db55f70"
      },
      "execution_count": 34,
      "outputs": [
        {
          "output_type": "execute_result",
          "data": {
            "text/plain": [
              "<matplotlib.axes._subplots.AxesSubplot at 0x7ff9bc0263a0>"
            ]
          },
          "metadata": {},
          "execution_count": 34
        },
        {
          "output_type": "display_data",
          "data": {
            "text/plain": [
              "<Figure size 432x288 with 1 Axes>"
            ],
            "image/png": "[encoded data removed]"
          },
          "metadata": {}
        }
      ]
    },
    {
      "cell_type": "code",
      "source": [
        "monday_start_time = df.Start_Time[df.Start_Time.dt.dayofweek == 0]\n",
        "sns.distplot(monday_start_time.dt.hour, bins=24, kde=False, norm_hist=True)"
      ],
      "metadata": {
        "colab": {
          "base_uri": "https://localhost:8080/",
          "height": 297
        },
        "id": "xfcElZS5u0HZ",
        "outputId": "18351aeb-404d-4cf4-c89b-cac48221dd54"
      },
      "execution_count": 35,
      "outputs": [
        {
          "output_type": "execute_result",
          "data": {
            "text/plain": [
              "<matplotlib.axes._subplots.AxesSubplot at 0x7ff9bbfaf310>"
            ]
          },
          "metadata": {},
          "execution_count": 35
        },
        {
          "output_type": "display_data",
          "data": {
            "text/plain": [
              "<Figure size 432x288 with 1 Axes>"
            ],
            "image/png": "[encoded data removed]"
          },
          "metadata": {}
        }
      ]
    },
    {
      "cell_type": "markdown",
      "source": [
        "Almost same accidents hours on week days and weekends"
      ],
      "metadata": {
        "id": "B-pVoDYsvJJB"
      }
    },
    {
      "cell_type": "code",
      "source": [
        "sns.distplot(df.Start_Time.dt.month, bins=12, kde=False, norm_hist=True)    "
      ],
      "metadata": {
        "id": "AAMZj6NKu0C8",
        "colab": {
          "base_uri": "https://localhost:8080/",
          "height": 297
        },
        "outputId": "3a88a4ef-9caa-4d48-adb1-952b05a51fc1"
      },
      "execution_count": 36,
      "outputs": [
        {
          "output_type": "execute_result",
          "data": {
            "text/plain": [
              "<matplotlib.axes._subplots.AxesSubplot at 0x7ff9bbf236a0>"
            ]
          },
          "metadata": {},
          "execution_count": 36
        },
        {
          "output_type": "display_data",
          "data": {
            "text/plain": [
              "<Figure size 432x288 with 1 Axes>"
            ],
            "image/png": "[encoded data removed]"
          },
          "metadata": {}
        }
      ]
    },
    {
      "cell_type": "code",
      "source": [
        "df_2019 = df[df.Start_Time.dt.year == 2019]\n",
        "sns.distplot(df_2019.Start_Time.dt.month, bins=12, kde=False, norm_hist=True)\n"
      ],
      "metadata": {
        "id": "qvX_Jl7Ou0Ab",
        "colab": {
          "base_uri": "https://localhost:8080/",
          "height": 297
        },
        "outputId": "82d4b7b4-1c37-4738-c1f8-399697dde722"
      },
      "execution_count": 37,
      "outputs": [
        {
          "output_type": "execute_result",
          "data": {
            "text/plain": [
              "<matplotlib.axes._subplots.AxesSubplot at 0x7ff9bbecedc0>"
            ]
          },
          "metadata": {},
          "execution_count": 37
        },
        {
          "output_type": "display_data",
          "data": {
            "text/plain": [
              "<Figure size 432x288 with 1 Axes>"
            ],
            "image/png": "[encoded data removed]"
          },
          "metadata": {}
        }
      ]
    },
    {
      "cell_type": "markdown",
      "source": [
        "Can you explain the month-wise trend of accidents?\n",
        "\n",
        "1. Much data is missing for 2016. Maybe even 2017.\n",
        "2. There seems to be some issue with the Bing data\n"
      ],
      "metadata": {
        "id": "c3gbjvMC6EZD"
      }
    },
    {
      "cell_type": "markdown",
      "source": [
        "## **Start Latitude & Longitude**\n"
      ],
      "metadata": {
        "id": "li8kHP7m-sR7"
      }
    },
    {
      "cell_type": "code",
      "source": [
        "df.Start_Lat"
      ],
      "metadata": {
        "colab": {
          "base_uri": "https://localhost:8080/"
        },
        "id": "OLWF7hf9-l3y",
        "outputId": "5971c597-5e8f-4db1-8ea4-2b41a24cdfba"
      },
      "execution_count": 38,
      "outputs": [
        {
          "output_type": "execute_result",
          "data": {
            "text/plain": [
              "0          40.108910\n",
              "1          39.865420\n",
              "2          39.102660\n",
              "3          41.062130\n",
              "4          39.172393\n",
              "             ...    \n",
              "2845337    34.002480\n",
              "2845338    32.766960\n",
              "2845339    33.775450\n",
              "2845340    33.992460\n",
              "2845341    34.133930\n",
              "Name: Start_Lat, Length: 2845342, dtype: float64"
            ]
          },
          "metadata": {},
          "execution_count": 38
        }
      ]
    },
    {
      "cell_type": "code",
      "source": [
        "df.Start_Lng"
      ],
      "metadata": {
        "colab": {
          "base_uri": "https://localhost:8080/"
        },
        "id": "F04o6mB1-l1X",
        "outputId": "cb121339-ad95-4b8f-aeb1-73cc15b18887"
      },
      "execution_count": 39,
      "outputs": [
        {
          "output_type": "execute_result",
          "data": {
            "text/plain": [
              "0          -83.092860\n",
              "1          -84.062800\n",
              "2          -84.524680\n",
              "3          -81.537840\n",
              "4          -84.492792\n",
              "              ...    \n",
              "2845337   -117.379360\n",
              "2845338   -117.148060\n",
              "2845339   -117.847790\n",
              "2845340   -118.403020\n",
              "2845341   -117.230920\n",
              "Name: Start_Lng, Length: 2845342, dtype: float64"
            ]
          },
          "metadata": {},
          "execution_count": 39
        }
      ]
    },
    {
      "cell_type": "code",
      "source": [
        "sample_df = df.sample(int(0.1 * len(df)))"
      ],
      "metadata": {
        "id": "fzzhlegA-lwW"
      },
      "execution_count": 40,
      "outputs": []
    },
    {
      "cell_type": "code",
      "source": [
        "sns.scatterplot(x=sample_df.Start_Lng, y=sample_df.Start_Lat, size=0.001)"
      ],
      "metadata": {
        "id": "DnsDkum_-ltw",
        "colab": {
          "base_uri": "https://localhost:8080/",
          "height": 300
        },
        "outputId": "9bf7a714-d3d2-49d8-85c1-dd488c9b5a4c"
      },
      "execution_count": 41,
      "outputs": [
        {
          "output_type": "execute_result",
          "data": {
            "text/plain": [
              "<matplotlib.axes._subplots.AxesSubplot at 0x7ff9bc1f4c10>"
            ]
          },
          "metadata": {},
          "execution_count": 41
        },
        {
          "output_type": "display_data",
          "data": {
            "text/plain": [
              "<Figure size 432x288 with 1 Axes>"
            ],
            "image/png": "[encoded data removed]"
          },
          "metadata": {}
        }
      ]
    },
    {
      "cell_type": "code",
      "source": [
        "import folium\n"
      ],
      "metadata": {
        "id": "90HttKjaYVON"
      },
      "execution_count": 42,
      "outputs": []
    },
    {
      "cell_type": "code",
      "source": [
        "lat, lon = df.Start_Lat[0], df.Start_Lng[0]\n",
        "lat, lon\n"
      ],
      "metadata": {
        "colab": {
          "base_uri": "https://localhost:8080/"
        },
        "id": "cqH1bx_6jxbe",
        "outputId": "4de428f9-f36f-4e48-9d9c-765419ff49d3"
      },
      "execution_count": 43,
      "outputs": [
        {
          "output_type": "execute_result",
          "data": {
            "text/plain": [
              "(40.10891, -83.09286)"
            ]
          },
          "metadata": {},
          "execution_count": 43
        }
      ]
    },
    {
      "cell_type": "code",
      "source": [
        "for x in df[['Start_Lat', 'Start_Lng']].sample(100).iteritems():\n",
        "    print(x[1])"
      ],
      "metadata": {
        "colab": {
          "base_uri": "https://localhost:8080/"
        },
        "id": "AY7oRQVUjxeG",
        "outputId": "2f1270cd-20c7-41b7-b94e-307aa75d0b04"
      },
      "execution_count": 44,
      "outputs": [
        {
          "output_type": "stream",
          "name": "stdout",
          "text": [
            "2286808    34.035131\n",
            "525299     35.791334\n",
            "590347     43.824314\n",
            "2332577    44.662780\n",
            "147322     32.645460\n",
            "             ...    \n",
            "953411     25.686405\n",
            "616811     34.235512\n",
            "2312519    39.921690\n",
            "192077     41.537970\n",
            "2539606    42.225880\n",
            "Name: Start_Lat, Length: 100, dtype: float64\n",
            "2286808   -118.333579\n",
            "525299     -78.633369\n",
            "590347    -117.037558\n",
            "2332577   -117.612210\n",
            "147322     -96.856250\n",
            "              ...    \n",
            "953411     -80.351645\n",
            "616811    -118.289419\n",
            "2312519    -74.947550\n",
            "192077     -73.776260\n",
            "2539606   -122.735781\n",
            "Name: Start_Lng, Length: 100, dtype: float64\n"
          ]
        }
      ]
    },
    {
      "cell_type": "code",
      "source": [
        "zip(list(df.Start_Lat), list(df.Start_Lng))\n"
      ],
      "metadata": {
        "colab": {
          "base_uri": "https://localhost:8080/"
        },
        "id": "hOx75ow2jxgF",
        "outputId": "ab5de52d-8572-4ef5-b724-fa66b4a19198"
      },
      "execution_count": 45,
      "outputs": [
        {
          "output_type": "execute_result",
          "data": {
            "text/plain": [
              "<zip at 0x7ff9ba09b840>"
            ]
          },
          "metadata": {},
          "execution_count": 45
        }
      ]
    },
    {
      "cell_type": "code",
      "source": [
        "from folium.plugins import HeatMap\n"
      ],
      "metadata": {
        "id": "ujP_hcOMjxka"
      },
      "execution_count": 46,
      "outputs": []
    },
    {
      "cell_type": "code",
      "source": [
        "sample_df = df.sample(int(0.001 * len(df)))\n",
        "lat_lon_pairs = list(zip(list(sample_df.Start_Lat), list(sample_df.Start_Lng)))\n"
      ],
      "metadata": {
        "id": "cnTIHOhYj4Ee"
      },
      "execution_count": 47,
      "outputs": []
    },
    {
      "cell_type": "code",
      "source": [
        "map = folium.Map()\n",
        "HeatMap(lat_lon_pairs).add_to(map)\n",
        "map\n"
      ],
      "metadata": {
        "colab": {
          "base_uri": "https://localhost:8080/",
          "height": 681
        },
        "id": "4R0kT2awj4G3",
        "outputId": "2120435f-4374-4eb0-c23b-11083059ecb0"
      },
      "execution_count": 48,
      "outputs": [
        {
          "output_type": "execute_result",
          "data": {
            "text/plain": [
              "<folium.folium.Map at 0x7ff9ba132250>"
            ],
            "text/html": [
              "<div style=\"width:100%;\"><div style=\"position:relative;width:100%;height:0;padding-bottom:60%;\"><span style=\"color:#565656\">Make this Notebook Trusted to load map: File -> Trust Notebook</span><iframe srcdoc=\"&lt;!DOCTYPE html&gt;\n",
              "&lt;html&gt;\n",
              "&lt;head&gt;\n",
              "    \n",
              "    &lt;meta http-equiv=&quot;content-type&quot; content=&quot;text/html; charset=UTF-8&quot; /&gt;\n",
              "    \n",
              "        &lt;script&gt;\n",
              "            L_NO_TOUCH = false;\n",
              "            L_DISABLE_3D = false;\n",
              "        &lt;/script&gt;\n",
              "    \n",
              "    &lt;style&gt;html, body {width: 100%;height: 100%;margin: 0;padding: 0;}&lt;/style&gt;\n",
              "    &lt;style&gt;#map {position:absolute;top:0;bottom:0;right:0;left:0;}&lt;/style&gt;\n",
              "    &lt;script src=&quot;https://cdn.jsdelivr.net/npm/leaflet@1.6.0/dist/leaflet.js&quot;&gt;&lt;/script&gt;\n",
              "    &lt;script src=&quot;https://code.jquery.com/jquery-1.12.4.min.js&quot;&gt;&lt;/script&gt;\n",
              "    &lt;script src=&quot;https://maxcdn.bootstrapcdn.com/bootstrap/3.2.0/js/bootstrap.min.js&quot;&gt;&lt;/script&gt;\n",
              "    &lt;script src=&quot;https://cdnjs.cloudflare.com/ajax/libs/Leaflet.awesome-markers/2.0.2/leaflet.awesome-markers.js&quot;&gt;&lt;/script&gt;\n",
              "    &lt;link rel=&quot;stylesheet&quot; href=&quot;https://cdn.jsdelivr.net/npm/leaflet@1.6.0/dist/leaflet.css&quot;/&gt;\n",
              "    &lt;link rel=&quot;stylesheet&quot; href=&quot;https://maxcdn.bootstrapcdn.com/bootstrap/3.2.0/css/bootstrap.min.css&quot;/&gt;\n",
              "    &lt;link rel=&quot;stylesheet&quot; href=&quot;https://maxcdn.bootstrapcdn.com/bootstrap/3.2.0/css/bootstrap-theme.min.css&quot;/&gt;\n",
              "    &lt;link rel=&quot;stylesheet&quot; href=&quot;https://maxcdn.bootstrapcdn.com/font-awesome/4.6.3/css/font-awesome.min.css&quot;/&gt;\n",
              "    &lt;link rel=&quot;stylesheet&quot; href=&quot;https://cdnjs.cloudflare.com/ajax/libs/Leaflet.awesome-markers/2.0.2/leaflet.awesome-markers.css&quot;/&gt;\n",
              "    &lt;link rel=&quot;stylesheet&quot; href=&quot;https://cdn.jsdelivr.net/gh/python-visualization/folium/folium/templates/leaflet.awesome.rotate.min.css&quot;/&gt;\n",
              "    \n",
              "            &lt;meta name=&quot;viewport&quot; content=&quot;width=device-width,\n",
              "                initial-scale=1.0, maximum-scale=1.0, user-scalable=no&quot; /&gt;\n",
              "            &lt;style&gt;\n",
              "                #map_a186e9de4c7731d2801db640c0cf0407 {\n",
              "                    position: relative;\n",
              "                    width: 100.0%;\n",
              "                    height: 100.0%;\n",
              "                    left: 0.0%;\n",
              "                    top: 0.0%;\n",
              "                }\n",
              "            &lt;/style&gt;\n",
              "        \n",
              "    &lt;script src=&quot;https://cdn.jsdelivr.net/gh/python-visualization/folium@master/folium/templates/leaflet_heat.min.js&quot;&gt;&lt;/script&gt;\n",
              "&lt;/head&gt;\n",
              "&lt;body&gt;\n",
              "    \n",
              "    \n",
              "            &lt;div class=&quot;folium-map&quot; id=&quot;map_a186e9de4c7731d2801db640c0cf0407&quot; &gt;&lt;/div&gt;\n",
              "        \n",
              "&lt;/body&gt;\n",
              "&lt;script&gt;\n",
              "    \n",
              "    \n",
              "            var map_a186e9de4c7731d2801db640c0cf0407 = L.map(\n",
              "                &quot;map_a186e9de4c7731d2801db640c0cf0407&quot;,\n",
              "                {\n",
              "                    center: [0, 0],\n",
              "                    crs: L.CRS.EPSG3857,\n",
              "                    zoom: 1,\n",
              "                    zoomControl: true,\n",
              "                    preferCanvas: false,\n",
              "                }\n",
              "            );\n",
              "\n",
              "            \n",
              "\n",
              "        \n",
              "    \n",
              "            var tile_layer_c8aa2f7708cfe18c3c2dde57b0aa6fd7 = L.tileLayer(\n",
              "                &quot;https://{s}.tile.openstreetmap.org/{z}/{x}/{y}.png&quot;,\n",
              "                {&quot;attribution&quot;: &quot;Data by \\u0026copy; \\u003ca href=\\&quot;http://openstreetmap.org\\&quot;\\u003eOpenStreetMap\\u003c/a\\u003e, under \\u003ca href=\\&quot;http://www.openstreetmap.org/copyright\\&quot;\\u003eODbL\\u003c/a\\u003e.&quot;, &quot;detectRetina&quot;: false, &quot;maxNativeZoom&quot;: 18, &quot;maxZoom&quot;: 18, &quot;minZoom&quot;: 0, &quot;noWrap&quot;: false, &quot;opacity&quot;: 1, &quot;subdomains&quot;: &quot;abc&quot;, &quot;tms&quot;: false}\n",
              "            ).addTo(map_a186e9de4c7731d2801db640c0cf0407);\n",
              "        \n",
              "    \n",
              "            var heat_map_cb11503cc6354474792d07b487cc4fed = L.heatLayer(\n",
              "                [[30.477975, -84.067553], [38.690225, -121.392132], [44.32862100000001, -93.293076], [47.21936, -92.487784], [45.516742, -122.66712], [37.36434000000001, -121.901809], [39.27041, -76.65691], [34.012674, -84.06700699999998], [38.086671, -122.113689], [32.97626, -117.08775], [30.484, -84.30396], [43.13301, -89.29395], [39.926241, -75.194474], [39.391576, -120.025452], [35.352754, -119.035485], [28.56292, -81.310868], [45.797227, -123.811508], [39.777148, -74.24475699999998], [45.300654, -93.797847], [45.640243, -94.628344], [38.565596, -121.470416], [25.654861, -80.41565200000002], [45.50175, -122.67356], [32.66485, -96.7208], [41.834854, -84.99869], [34.024733000000005, -117.735811], [40.73607, -73.767775], [41.813331, -71.509312], [30.170044, -82.675664], [38.069167, -122.226667], [33.976473, -118.282676], [28.486758, -81.42279599999998], [29.718605, -95.504168], [39.81066, -77.046562], [33.542858, -117.673519], [40.72502, -111.77126], [34.064104, -118.250347], [41.85135, -87.733436], [36.56903, -76.19975500000002], [25.86297, -80.242384], [33.853722999999995, -117.810474], [45.296551, -93.789359], [26.142525, -80.169749], [33.029152, -117.171249], [33.448248, -112.341107], [33.01786, -96.983072], [43.110499, -77.616107], [28.566698, -81.205547], [30.401824, -81.663652], [39.188516, -94.604447], [34.112057, -117.28741], [29.7856, -95.714678], [33.590964, -117.240091], [42.705583, -74.32155], [36.146868, -86.79377], [44.833143, -123.968067], [36.84309, -121.63358999999998], [39.015166, -77.005138], [32.728852, -117.155102], [27.989290000000004, -81.12732700000002], [42.961814, -70.856049], [38.578, -121.50737], [36.296919, -86.699156], [43.01045, -89.82003900000002], [28.714328, -81.86059300000002], [41.725569, -78.932889], [25.714654, -80.41241600000002], [30.28818, -97.723844], [40.79058, -73.82337], [45.783653, -118.110981], [36.425117, -105.316282], [39.443554, -77.403477], [35.385742, -78.51419], [40.878112, -124.082628], [42.397976, -82.98552099999998], [38.93404500000001, -105.006427], [41.02877, -111.94657], [25.636031, -80.414575], [40.853487, -73.961688], [29.68720200000001, -95.562724], [26.302546000000003, -80.286787], [25.7822, -80.32365], [41.542278, -72.99085699999998], [45.542439, -122.484029], [32.304063, -84.001874], [25.846397, -80.227434], [35.818606, -78.61075100000002], [44.91353, -93.50418], [25.925895, -80.166666], [34.121347, -118.479416], [37.511589, -121.938147], [35.818208, -78.60819599999998], [39.563601, -77.61581600000002], [28.486795, -81.419402], [33.497647, -80.76774], [38.185456, -120.82563600000002], [40.343543, -79.13861700000002], [33.77871, -117.89506000000002], [33.5462, -86.58588], [39.39455, -76.70034], [37.897082, -122.071895], [38.551016, -121.429602], [33.962205, -84.107626], [39.611175, -86.487047], [38.877644, -77.03792800000002], [34.076, -118.23153], [38.812095, -76.911397], [33.47097, -86.82448000000002], [34.15202, -118.13663], [44.97344, -93.38682], [39.042588, -121.475604], [33.974771000000004, -118.256391], [30.062843, -89.960849], [33.965412, -118.165024], [32.668049, -97.228879], [41.260598, -112.024379], [37.70935, -77.77895], [40.029748, -76.38282099999998], [41.2054, -111.99441000000002], [27.131695, -82.40266], [25.805096, -80.20596], [39.22128, -76.704098], [35.78568, -78.66131], [26.12789, -80.16954], [35.161508000000005, -80.743158], [28.526606, -81.472585], [40.218666, -75.245494], [31.324755, -89.334275], [30.252678000000003, -81.45169200000002], [40.536808, -111.893149], [33.646541, -117.761861], [37.909516, -79.259737], [40.96173, -81.46287], [42.27231, -83.22180999999998], [33.191203, -117.122008], [28.364029, -80.704491], [33.774536, -118.072031], [34.03441, -118.38468], [36.989338, -120.092596], [40.62485, -74.3066], [43.117523, -71.480257], [27.893773, -82.33285699999998], [35.273269, -80.842713], [39.01875, -77.10274], [39.00701, -77.49295], [35.136855, -85.237468], [28.089779, -82.451539], [34.029941, -118.44219], [41.597312, -93.777206], [25.71606400000001, -80.41524], [40.993138, -73.67780400000002], [40.787633, -73.452111], [37.68947, -122.0956], [38.701999, -120.672457], [30.419844, -91.084567], [26.566242, -81.59518800000002], [41.614229, -93.852908], [41.536336, -73.086249], [32.32865, -90.32951], [33.913353, -118.125438], [39.92392, -86.22274], [35.050633000000005, -85.161289], [33.749891, -118.281364], [33.766020000000005, -117.926148], [41.726449, -72.776645], [36.05184000000001, -89.8416], [25.76182, -80.337716], [43.661, -124.18772], [40.821116, -97.649803], [37.85443, -122.21998], [39.740607, -104.82522], [33.558678, -117.127729], [45.884684, -119.523955], [38.734917, -122.625014], [38.08265, -122.54919], [32.760679, -96.773976], [32.811151, -96.611076], [33.87303, -118.27786], [42.96293, -85.65439599999998], [25.716464, -80.153002], [44.18866, -93.98219], [34.015482, -118.175867], [25.715168, -80.431221], [37.148605, -76.534184], [28.22637700000001, -82.687862], [38.437425, -122.687415], [28.499841, -81.359751], [33.687439000000005, -117.873515], [41.65248, -71.5757], [39.968336, -76.71131], [25.731812, -80.335697], [29.403890000000004, -82.24521999999997], [43.988706, -117.055992], [45.003182, -93.400966], [38.825732, -77.457371], [34.781959, -82.47333], [28.62236, -81.47323399999998], [44.630023, -123.019274], [38.754669, -77.527996], [34.068939, -117.37025], [40.265525, -122.266749], [37.973297, -121.329757], [43.0894, -87.92182], [34.094559000000004, -118.476119], [38.383491, -121.933732], [30.392751, -91.160784], [43.264394, -83.73566], [33.15463, -97.06352], [38.760297, -122.154249], [37.960811, -121.249543], [28.430246, -81.47496], [35.194498, -80.767573], [37.663362, -122.105981], [35.3919, -97.51157], [34.172214000000004, -118.532427], [45.276267, -93.738051], [27.771513, -82.335103], [41.26373, -73.68382], [38.878233, -77.267044], [44.179447, -117.135361], [25.656426, -80.413329], [34.1514, -117.323513], [39.096244, -94.566021], [39.302955, -121.027708], [34.13111, -117.20699], [32.664970000000004, -117.07964], [33.385670000000005, -111.88013], [45.51579, -122.696793], [28.244009, -82.454645], [40.006462, -74.975099], [28.539241, -81.259054], [30.38742, -81.55812], [32.955355, -97.04032], [29.960087, -90.065782], [42.64448, -73.750271], [45.104282, -93.395212], [42.74288, -73.69744], [34.01082, -118.28094], [35.839238, -78.675899], [39.20395, -76.62589399999997], [37.470515, -121.9087], [33.891290000000005, -118.36169], [41.24615, -73.09743], [38.563847, -121.636669], [29.874519, -95.410627], [30.27422, -81.76879], [41.665385, -122.606583], [38.656805, -120.98211299999998], [34.046011, -118.442899], [44.844626, -93.123599], [33.77888, -78.79211], [28.019409000000003, -82.72642900000002], [36.060967, -95.856559], [38.417078, -121.947256], [38.944218, -76.798449], [41.39366, -73.59669], [27.936692, -82.330279], [37.393416, -77.346159], [28.430887, -81.407593], [35.208678000000006, -80.757533], [32.927365, -80.391469], [29.94231, -90.07309], [29.625518, -95.284541], [27.391916, -82.533026], [25.942412, -80.30528000000002], [39.869367, -75.31503000000002], [36.849314, -121.636185], [34.077078, -117.396475], [38.901934, -76.98827], [47.610613, -122.322119], [41.202412, -76.78462900000002], [33.977133, -118.129779], [35.36132100000001, -118.967446], [33.772219, -84.390374], [33.09861, -84.57825], [30.34901, -97.545708], [33.806808000000004, -84.89125200000002], [33.883948, -117.525285], [33.96761, -118.08327], [44.17749, -121.2469], [26.93443, -80.13429000000002], [39.746419, -111.477563], [36.61221, -121.566113], [28.452192, -81.400388], [36.983871, -121.931272], [29.959477000000003, -90.111602], [34.125076, -118.476775], [38.351935, -121.340446], [34.880551000000004, -82.40471], [34.199014, -118.337797], [33.637836, -117.856063], [33.951512, -117.385319], [38.704149, -121.382765], [38.6906, -121.41986], [38.916637, -77.228463], [40.246502, -75.311033], [28.260728000000004, -81.48618], [28.420568, -80.82018199999997], [34.092668, -80.86056500000002], [35.033077, -80.823441], [28.851528, -81.552254], [37.165346, -93.262504], [38.42421, -121.39553], [34.008842, -118.158573], [34.751442, -86.753422], [42.43906, -87.82562], [32.79652, -96.92098], [40.092041, -76.263053], [42.926984, -85.56958900000002], [35.364132, -118.938637], [38.998456, -77.294152], [29.00922000000001, -80.98525], [25.811432, -80.195255], [39.920507, -104.808572], [45.41657, -122.74388], [45.087257, -93.187311], [33.835655, -116.804853], [37.943863, -122.502103], [28.566459, -81.689153], [27.966867, -82.45332900000002], [41.324928, -92.464959], [35.157196, -85.248594], [32.761163, -117.168898], [29.76958, -98.04174], [39.10471, -94.57132], [34.142933, -118.021097], [38.663986, -121.224481], [32.676218, -97.044074], [35.909188, -78.932121], [39.717282, -86.124905], [34.025078, -117.727733], [38.928668, -77.034648], [29.639005, -95.43956], [34.117020000000004, -118.26915], [40.934119, -124.100882], [32.67048, -96.9406], [40.043739, -75.0029], [28.546284000000004, -81.415262], [43.673939, -93.728402], [40.95587, -73.87099], [37.398909, -77.424355], [38.9553, -76.71], [36.245494, -84.178167], [35.873902, -78.690923], [39.9151, -86.269551], [38.35452, -104.83671], [42.18715, -75.64201], [43.126519, -75.42008], [34.029325, -118.444794], [33.858187, -118.202178], [25.846986, -80.211189], [33.960196999999994, -117.855764], [38.899996, -77.404873], [42.437673, -122.839256], [29.620189, -95.345959], [39.889579, -75.232586], [33.837708, -117.124012], [47.598286, -122.321177], [39.755875, -84.139842], [39.147056, -94.586783], [25.639505, -80.41469000000002], [39.305918, -76.530648], [28.605341, -81.404977], [44.946216, -93.03979], [28.595883, -81.286485], [46.763502, -100.901507], [43.1721, -77.559588], [33.981957, -118.39443], [37.17805, -76.55325699999999], [44.862262, -93.222901], [33.93928, -118.095231], [33.705078, -117.389227], [33.71134, -84.21434], [44.93413, -93.27453], [34.02884, -117.8115], [44.30541, -89.52325], [36.190173, -86.172952], [35.1659, -80.79438], [25.702455, -80.332105], [25.910943, -80.210012], [34.86058, -82.13119], [33.938156, -117.876497], [40.545639, -77.61461800000002], [42.08425, -88.03102], [34.468518, -118.322221], [40.72575, -111.99293], [34.231413, -118.267725], [37.36918, -121.90931], [32.837755, -97.101825], [28.553122, -81.378054], [30.575606, -91.127986], [35.80047000000001, -78.66958000000002], [38.81913, -76.91499], [39.979923, -111.352947], [40.70255, -73.81653299999998], [34.05603, -117.54662], [33.459192, -79.558357], [39.609171, -119.220463], [38.33925, -81.60951999999997], [40.187762, -74.610654], [34.02921, -118.399361], [33.801981, -117.900327], [40.853908, -73.966966], [36.564372, -119.430511], [39.095935, -94.559993], [38.997298, -76.511525], [33.877041, -118.155648], [33.806666, -83.788387], [35.804187, -78.711464], [40.059467, -75.326975], [34.072166, -118.218858], [39.73664, -105.01436], [39.495223, -105.339794], [25.889454, -80.204769], [37.58353, -77.47416], [39.334775, -119.810106], [34.134101, -117.957133], [29.75407, -95.45545], [32.778805, -117.106073], [35.004638, -85.209737], [36.147218, -86.743635], [32.833124, -117.23311], [40.71897, -111.85366], [29.938806, -90.108191], [39.73163, -84.20563], [28.333745, -81.53416700000002], [45.453913, -122.57328400000002], [32.860929, -96.656269], [32.240315, -80.884525], [41.88094, -71.37705], [40.7391, -74.06774], [34.191577, -117.155539], [43.88621, -91.59981], [35.051356, -81.88733], [35.207797, -80.783559], [40.264332, -75.318043], [40.62899, -74.0173], [30.25432, -82.39223], [33.386517, -111.587716], [30.304845, -97.715936], [30.330201, -81.674965], [40.775677, -111.91066200000002], [33.776659, -117.841825], [39.81942, -84.281605], [33.177065, -117.351274], [32.872412, -96.683027], [34.316692, -117.479754], [25.83126, -80.240033], [33.748728, -117.45276], [34.067283, -117.982918], [39.320988, -77.728252], [40.313153, -75.30840699999997], [32.912346, -96.737054], [38.46520200000001, -121.408852], [32.793921000000005, -96.814409], [37.491131, -77.432472], [37.7557, -121.435108], [39.42071, -76.64496], [45.53942, -122.33401], [40.749546, -112.177695], [41.100472, -74.164727], [34.067583, -117.566678], [42.455051, -124.420904], [33.99653, -117.36475], [33.853769, -117.924331], [28.191342, -82.46350100000002], [34.018441, -118.28006299999998], [36.20215, -77.54072], [25.684137, -80.416422], [29.990554, -90.045897], [40.24897, -75.34626999999998], [28.285409, -82.697153], [40.480201, -111.400331], [39.9719, -83.0807], [35.622164, -82.57466600000002], [32.745075, -96.82451], [37.24304, -121.809228], [47.57933, -94.809798], [33.888652, -118.357965], [41.299388, -72.995073], [25.913223, -80.325211], [47.08123, -123.02374], [37.15908, -93.31628], [39.94567, -83.01388], [26.70681, -80.113686], [39.386147, -81.439815], [37.93940300000001, -122.324946], [34.035940000000004, -118.32232], [27.352312, -82.514053], [32.265595000000005, -110.926719], [28.361956, -81.429114], [33.022832, -117.273425], [38.93501, -94.7362], [33.747904, -84.440274], [44.924715, -93.451391], [37.034226, -76.360326], [35.892405, -78.601548], [46.44727, -94.04121], [40.63296500000001, -74.936132], [37.98039, -122.055976], [40.17845, -76.836587], [33.285429, -117.149479], [34.773761, -92.261747], [42.33327, -83.084288], [47.23257, -122.43413], [43.992629, -124.101376], [45.572596, -93.198468], [25.900218, -80.32446], [45.46863, -122.61], [34.593783, -82.799591], [30.189684000000003, -81.73947700000002], [40.131222, -75.33442099999998], [34.065008, -117.308753], [33.375069, -117.56089], [45.44192, -122.77381], [25.66252, -80.38865], [45.56641, -122.67853999999998], [45.34849000000001, -118.03506000000002], [33.609044, -81.726248], [33.71585, -84.31045], [34.998457, -82.001701], [36.974071, -121.883072], [35.787494, -78.375274], [37.25322, -121.78909], [28.552627, -81.44658299999998], [38.87272, -104.72013], [34.00354, -117.93046499999998], [32.851489, -117.216906], [43.939572, -94.904783], [37.841572, -122.297082], [25.674432, -80.320029], [33.982067, -118.252066], [35.717636, -119.366015], [40.84707, -73.92560999999998], [42.36519000000001, -71.05953000000002], [43.148818, -77.62060600000002], [34.183091999999995, -118.39653], [34.16277, -114.365369], [34.362252000000005, -118.554579], [42.24601, -88.12743], [27.467903000000003, -82.416903], [40.76949000000001, -73.690457], [33.853865, -117.3747], [38.816586, -121.189078], [32.785786, -79.956655], [26.697345, -80.069974], [34.0796, -118.220841], [25.947339000000003, -80.150637], [39.773282, -85.446003], [25.863028, -80.322622], [30.178257, -97.532557], [32.22094, -110.8411], [34.8191, -82.42695], [28.026859, -82.73807], [40.547939, -77.155119], [34.170677000000005, -117.453884], [46.453431, -94.026571], [37.347323, -121.920459], [34.06545, -117.29648], [38.41059, -122.71616000000002], [30.354225, -91.110369], [30.19451, -97.783262], [39.507211, -107.885044], [39.10142800000001, -121.551254], [34.087234, -117.662675], [37.180754, -77.491845], [25.945092, -80.179108], [28.421376, -81.40195600000001], [32.916014000000004, -117.115898], [28.547319, -81.258219], [33.54363, -81.837972], [42.644063, -83.214207], [34.487023, -118.140804], [43.18762, -77.57629], [47.603963, -122.335606], [42.49131, -82.91634], [37.42528, -122.09804], [40.939381, -123.6315], [47.174489, -122.229314], [43.484337, -124.222385], [42.055674, -88.017278], [33.908412, -84.477312], [34.247985, -79.147918], [39.088668, -77.174683], [35.664343, -78.700469], [37.182311, -93.297647], [33.949731, -117.38572], [41.511572, -72.78241700000002], [25.928083, -80.19864], [33.866311, -117.72006100000002], [35.153106, -111.249736], [42.34077, -88.0534], [41.8925, -87.64761999999996], [39.144212, -77.65612], [30.474226, -87.22319], [32.92649, -117.23991], [29.963525, -95.543752], [28.5327, -81.52565], [40.619306, -74.023537], [26.112768, -80.1692], [38.597361, -121.50381000000002], [25.714146, -80.42711800000002], [37.717741, -121.532156], [34.155775, -118.264485], [32.832207000000004, -96.828314], [38.240565, -85.622259], [32.69423, -96.84444], [44.954112, -93.078714], [32.73271, -97.48148], [41.98224, -87.87614], [34.176935, -118.308039], [37.646226, -121.016628], [36.724882, -119.45656], [39.75866, -84.22715], [41.87135, -87.83999], [30.48371, -84.0412], [29.78467, -95.10799], [26.02809, -80.16566999999998], [29.752459, -95.395886], [34.04456, -84.0293], [25.942426, -80.30569799999998], [41.678169, -72.87455600000001], [41.98422, -87.836626], [36.110011, -86.770309], [39.13421, -94.4991], [35.754683, -78.65439], [32.248634, -110.943975], [37.575983, -121.881032], [38.708132, -121.308443], [38.818742, -77.222288], [36.149833, -86.859225], [38.99653, -94.78116], [25.754409, -80.36827199999998], [44.00066, -123.66891], [29.20222, -82.18449], [45.296551, -93.789359], [45.10261, -123.74223], [32.807026, -96.666809], [33.561719000000004, -111.88303799999998], [34.005895, -117.25182], [34.911531, -85.13384], [25.686754, -80.40081500000002], [41.58951500000001, -88.163496], [46.461063, -92.439554], [36.398086, -117.280427], [45.680161, -121.28986100000002], [28.45096, -81.38416], [32.23611, -110.8756], [34.066719, -117.243602], [28.53967, -81.2897], [39.064711, -76.644541], [44.609794, -94.08311], [34.103219, -81.179113], [30.215009, -85.604685], [40.743302, -73.833414], [44.000631, -123.668928], [47.14707, -122.50443], [25.686775, -80.369059], [41.536556, -72.963888], [35.842484000000006, -78.679789], [36.74511500000001, -118.157969], [34.01753, -117.81677], [25.84845, -80.238754], [27.506805, -81.492221], [39.69866500000001, -105.869062], [38.849537, -76.860208], [34.356038, -117.617613], [34.072399, -117.922013], [29.397562, -98.649494], [39.595681, -106.264947], [35.20118, -80.78668], [32.67624, -97.1825], [41.690829, -74.077838], [34.774936, -120.4872], [25.730795, -80.33564100000002], [39.170111, -76.73138], [40.725311, -74.14155500000003], [33.840111, -117.249923], [34.082782, -118.227275], [34.997648, -82.057068], [45.826506, -123.960693], [32.720306, -96.878966], [37.702242, -121.74406100000002], [43.202845, -77.676856], [39.85517, -86.08674], [45.49189000000001, -122.65612], [40.740469, -74.36974000000002], [41.543377, -72.775765], [33.84696, -117.86874], [32.866501, -96.741528], [30.329632, -81.76479], [35.20972000000001, -80.87411], [37.245722, -93.260885], [38.68405, -77.30467], [39.868726, -75.313528], [40.125647, -75.337548], [32.70923, -117.14773999999998], [36.779479, -119.740098], [33.638014, -112.237849], [33.77818, -117.86641000000002], [34.020212, -117.814998], [40.69672, -74.15508], [37.71558, -118.587393], [33.814658, -117.975807], [32.25802, -110.80221], [35.174426000000004, -90.018468], [33.292511, -111.093374], [35.207587, -80.757882], [27.447298, -82.515624], [28.280535, -82.697138], [33.66876, -112.07275], [39.534183, -119.787894], [40.884493, -73.898495], [42.27318, -84.39629000000002], [33.762254, -117.92018600000002], [33.722107, -117.838054], [25.866137, -80.20823100000001], [30.019271000000003, -90.018736], [39.75864, -84.156196], [37.46253400000001, -121.925712], [41.767807, -120.17986100000002], [33.831568, -84.35991999999997], [28.45165, -81.40056], [37.646395, -122.09281599999998], [30.446534000000003, -81.627543], [45.06159, -123.5724], [26.68005, -80.18608], [30.6847, -88.12695], [42.12213, -71.22919], [33.993598, -118.17638], [33.58221, -112.0305], [38.83969, -104.7481], [37.487722, -122.206667], [35.90254, -78.81056], [38.085881, -122.111671], [25.698611, -80.38217900000002], [36.11940900000001, -86.73004300000002], [35.343653, -80.841803], [39.75067, -84.245488], [35.167178, -82.13389000000002], [39.885187, -104.987617], [40.80181, -111.92066], [26.546554, -81.842427], [42.293163, -79.654515], [41.815523, -90.441218], [41.10118, -84.967012], [38.080104, -121.730328], [40.772677, -87.123824], [34.230962, -118.845044], [32.861021, -96.656415], [40.66511, -73.82519], [29.837273, -95.424212], [28.603357, -81.252974], [25.731061, -80.256074], [25.766055, -80.304018], [35.082069, -82.06343199999998], [34.26375, -119.011171], [43.239537, -75.451123], [25.700057, -80.412909], [41.690829, -74.077838], [38.470183, -77.404335], [26.558114, -81.656296], [30.166878000000004, -97.786036], [39.82412, -86.27585], [46.178746, -95.708254], [32.642623, -96.704288], [35.60915, -97.50183], [40.757041, -73.107022], [37.72087, -121.07836100000002], [39.941865, -75.58915], [41.424212, -77.0172], [35.10623, -106.65769], [25.904649, -80.24203299999998], [33.939374, -117.157934], [30.507157, -87.161852], [29.51727, -82.548211], [40.708174, -73.819428], [30.426076, -91.166209], [40.694717, -111.902452], [34.020505, -118.230125], [47.412098, -122.220478], [38.57634, -121.5487], [42.451373, -123.306522], [30.169004, -81.602293], [33.85129000000001, -117.875844], [35.794995, -78.583313], [38.998599, -122.875472], [25.831311, -80.23862700000002], [44.96663, -93.342959], [38.474344, -121.416669], [38.21877, -85.50586], [32.719246000000005, -117.14798799999998], [35.216018, -80.82847199999998], [29.82065, -82.06022], [32.217224, -110.979026], [33.938005, -117.29071299999998], [42.310164, -90.689794], [41.046891, -73.54409799999998], [40.301381, -75.999222], [40.83257800000001, -73.931731], [44.13758, -122.613011], [29.641785, -95.264689], [40.96337800000001, -73.732451], [29.320038, -98.531074], [33.876312, -118.093308], [39.127601, -78.185068], [25.787337, -80.19726899999998], [25.927299, -80.18821700000002], [35.201454, -80.72327800000002], [44.96678, -93.08933], [33.5531, -112.117], [39.953337, -75.581313], [45.6821, -122.55257], [47.70666, -122.30167], [37.72835900000001, -122.158599], [33.856204, -117.993346], [25.74809500000001, -80.308588], [28.430682, -81.407547], [34.32245, -83.46799999999998], [42.468258, -122.708825], [44.532665, -88.00589000000002], [43.974612, -116.852871], [25.80927, -80.31626999999997], [35.42777, -118.967734], [28.3764, -81.5654], [41.79525, -88.343537], [25.577945, -80.35202199999998], [33.942558, -111.442158], [37.783526, -121.221486], [34.272837, -118.932832], [28.52405, -81.31049], [42.345546, -87.922371], [42.33736, -83.12484], [42.753931, -73.933634], [32.483128, -93.775101], [36.066864, -80.25822600000002], [40.58966, -80.09852], [33.879909999999995, -117.55183999999998], [34.025290000000005, -117.72726000000002], [39.09698, -77.56326999999997], [28.200911, -80.672078], [37.558814, -77.420691], [37.544825, -122.021348], [42.786749, -112.233698], [33.949675, -118.170308], [33.615005, -117.262782], [32.930614, -96.803619], [40.51199, -112.00507], [35.194635, -80.873903], [35.25490100000001, -80.872904], [35.20529099999999, -119.009646], [38.762338, -94.958277], [37.65963, -122.46336], [34.023922, -118.244706], [30.036479, -90.004723], [26.5453, -81.852391], [39.549869, -110.752025], [35.26246, -80.87747], [30.409201, -81.65749699999998], [27.99629, -82.33111], [30.408699, -91.150187], [46.108246, -123.921733], [36.116025, -86.810574], [40.799824, -73.929906], [34.015267, -118.05541399999998], [33.979362, -117.338941], [39.861, -75.14974000000002], [40.94709, -78.99463], [38.340169, -85.809302], [34.029703000000005, -118.256059], [39.14625, -77.21531], [25.770822, -80.33653100000002], [33.908302, -117.453536], [34.032016, -117.327139], [32.196529, -110.959175], [36.073606, -79.173598], [34.987983, -85.148059], [37.676556, -122.11754], [34.3721, -118.499743], [33.951441, -117.551004], [39.06775, -94.48815], [38.68778, -90.06581], [25.942684, -80.203142], [37.356581, -122.116735], [36.622108, -121.684477], [44.86041, -93.32308], [25.831765, -80.205805], [40.54373, -74.31069000000002], [40.715107, -111.904519], [37.087106, -120.294301], [33.901617, -117.467405], [35.795162, -78.520655], [32.45547, -93.722089], [38.935033, -94.737157], [34.123342, -117.200905], [34.03686, -118.37793], [36.621614, -121.845947], [37.688119, -122.134411], [25.925636, -80.177539], [26.547684000000004, -81.78012199999998], [34.02922, -118.44598], [45.019624, -117.922491], [36.083624, -86.72754599999998], [34.130496, -117.503303], [28.473451, -81.396745], [34.081149, -117.740289], [36.322184, -119.650136], [39.90376, -84.18815], [44.602543, -93.787596], [29.996938, -90.145887], [45.530371, -122.637651], [38.019101, -121.937152], [43.22321, -77.64139], [41.97304000000001, -88.03153], [33.713739000000004, -117.786451], [33.624021, -79.0364], [47.57587, -122.31993], [30.179528, -97.783208], [30.164615, -81.745062], [35.026556, -81.87602199999998], [44.861732, -93.274753], [38.465392, -121.371933], [34.255847, -119.108921], [34.01993, -117.987811], [40.587927, -112.027834], [32.778645000000004, -117.116208], [33.42888, -112.0825], [38.644788, -121.267169], [34.440411, -118.599826], [47.731057, -122.34507], [30.421451, -97.619168], [39.377266, -123.815922], [35.740948, -78.849841], [33.760055, -117.862671], [46.554836, -95.469503], [37.996051, -121.785236], [32.685559999999995, -97.24038], [38.932606, -76.92188900000002], [39.171016, -123.211406], [36.163615, -86.793803], [34.012505, -118.163513], [39.098445, -81.546075], [32.734171, -96.683984], [32.39759, -81.7564], [36.050479, -95.88631], [34.28241, -118.73976], [32.8384, -96.599425], [40.296369, -75.13332], [47.514448, -94.984413], [33.347254, -117.216182], [40.07452, -74.15648], [34.727023, -82.387648], [32.958984, -96.349318], [33.876459000000004, -118.19019], [38.00075, -85.70366999999997], [30.414085, -91.084033], [39.29373, -76.55286], [26.14215, -80.16971], [34.25074, -85.455], [38.600217, -121.460691], [43.12830200000001, -124.364564], [33.696304999999995, -117.081951], [39.942444, -122.18357], [40.810426, -74.06178299999998], [33.992459999999994, -118.40302], [32.671526, -96.965263], [28.54766, -81.413605], [45.315489, -118.071057], [33.910943, -81.326497], [26.747636, -81.76094], [30.31576, -81.55874399999998], [38.56105, -121.38111], [35.162882, -80.876029], [26.617112, -81.701235], [33.693632, -78.979734], [36.66867, -121.6342], [34.041196, -118.069066], [33.769079999999995, -117.91628], [39.01282, -122.35914], [41.77947, -87.907664], [40.69438, -74.26288000000002], [40.000968, -76.421513], [45.39707, -122.74702], [44.74622, -93.37956], [34.528921999999994, -82.682489], [30.160457, -97.7956], [33.462732, -112.134433], [34.1524, -118.098669], [32.22153, -110.87529], [38.0265, -78.438872], [30.407235, -97.671943], [40.48964, -111.94], [47.192404, -116.947351], [37.668546, -122.484844], [40.76875, -73.907271], [30.456324, -81.629283], [34.121320000000004, -117.25454], [29.72708, -95.492173], [28.497257, -81.472808], [45.37977100000001, -122.38618999999998], [25.86639, -80.20825], [34.051807000000004, -81.00842800000002], [35.801272, -78.73123199999998], [45.07297, -93.31388], [31.11799, -97.35402], [34.792205, -91.243967], [33.88968, -117.880493], [34.90269, -82.12665600000003], [33.689371, -117.767804], [45.511416, -122.705996], [25.78069, -80.3255], [37.94122, -122.32403], [34.065353, -118.46027], [42.683632, -73.84559399999998], [25.78332, -80.233448], [35.89965, -78.61563000000002], [25.805096, -80.205692], [44.313776, -122.00583600000002], [39.334841, -120.179282], [28.673678, -81.388199], [37.739559, -97.31875], [33.931585, -118.394132], [33.877061, -118.110226], [40.65963, -74.28733000000003], [37.684169, -122.073616], [32.790214, -80.032358], [47.302766, -122.256264], [33.81957, -118.287466], [45.068396, -93.279172], [34.143291999999995, -117.256839], [28.156824, -81.492524], [36.838349, -76.097477], [42.979011, -73.851095], [34.027858, -117.124407], [45.091527, -93.441714], [41.56238, -81.12916], [29.972515, -90.06553000000002], [33.837492, -117.532761], [29.932201, -90.033072], [36.975206, -76.42120899999998], [32.87724, -96.51628], [35.230095, -80.868213], [47.44291, -122.29603], [33.901775, -118.376167], [42.35708, -88.043751], [25.73307, -80.31755], [39.09574, -94.5547], [34.152713, -118.094696], [28.596711, -81.207657], [43.154361, -77.64395], [27.33755, -82.49573199999998], [40.86708, -74.039], [39.66539, -75.60335], [38.914416, -76.93276], [34.07547, -117.29543], [41.28779, -74.14066600000002], [43.046924, -88.20354300000002], [40.656, -74.64509], [39.042578000000006, -94.66439], [37.740282, -122.40805], [39.27164000000001, -77.49548], [40.86419, -81.42863], [37.349837, -121.838962], [40.048174, -76.314357], [34.780761, -83.019256], [32.76265, -117.16355], [28.325725, -81.490026], [32.72458, -96.75837], [36.69257800000001, -119.645981], [35.849949, -78.579598], [39.020297, -121.551344], [42.20442, -83.232919], [36.807926, -119.916449], [38.61802, -121.40149], [42.50548, -83.75791], [32.831509999999994, -96.78069], [33.951605, -118.368984], [33.526447999999995, -112.09985], [34.172142, -118.570924], [39.107019, -94.569642], [34.562891, -82.609966], [28.54616, -81.382116], [33.960687, -117.314892], [25.754494, -80.35123], [45.532332, -122.619835], [38.56009, -90.40295], [37.70949, -122.12452], [41.42117, -72.82549], [33.852843, -118.279659], [34.058679, -118.177367], [35.493643, -119.527268], [32.80296, -116.93913], [38.74393900000001, -121.189172], [33.46268, -112.19308], [40.906401, -74.163261], [25.684753, -80.432337], [35.781245, -78.64752800000002], [40.710221, -73.956227], [38.793647, -77.18294], [37.4911, -122.21863], [47.446148, -122.333986], [36.4056, -77.64198], [36.144201, -86.69234], [38.521721, -122.849421], [34.560352, -82.692482], [33.838623, -84.359739], [34.205332, -119.034495], [25.764877, -80.36863699999998], [33.87521, -118.01255], [42.992521, -78.801343], [41.67038, -122.614341], [33.576025, -117.134626], [34.154678000000004, -118.642525], [39.853196, -75.0975], [33.9851, -118.28266], [41.240262, -111.904521], [34.139824, -117.951193], [25.970307, -80.165737], [33.855799, -117.975994], [41.639682, -81.430027], [33.67283, -112.0238], [30.291101, -81.626362], [34.738439, -92.274507], [41.094116, -112.06462], [34.797484999999995, -82.406534], [45.653898, -122.56876], [34.012372, -117.980933], [40.10325, -75.151094], [40.253466, -122.262135], [41.770982, -72.67886899999998], [32.811618, -96.853139], [33.517014, -86.86653100000002], [35.84897700000001, -78.58031], [40.83775, -73.933973], [33.962633000000004, -79.804581], [29.741726, -95.443632], [44.831788, -93.236717], [38.486312, -77.39085899999998], [45.129528, -93.390561], [37.29134000000001, -121.93673], [30.415721, -91.069192], [35.804195, -78.711564], [40.668118, -111.90154], [36.211149, -86.812619], [37.2902, -93.433377], [25.883551, -80.21345500000002], [32.7939, -96.699252], [40.702774, -73.99256899999997], [38.889806, -77.10720699999997], [32.374124, -86.209313], [28.45134, -81.31770999999998], [26.174059, -81.740827], [38.79096, -77.06049399999998], [39.81979000000001, -84.18908], [31.42011, -83.50662], [46.604079, -112.006613], [33.391006, -111.967479], [25.811457, -80.196432], [45.52272, -122.66545], [39.15533, -94.49797], [34.034596, -118.054045], [45.51465, -122.66725], [43.387745, -115.999956], [28.346649, -81.338227], [39.418044, -75.658801], [30.109651, -83.42245600000003], [38.760027, -77.308649], [37.41152, -122.07663], [38.476556, -107.228418], [43.111369, -83.518888], [35.628053, -78.79027099999998], [37.499961, -122.320251], [37.933101, -122.326205], [32.924452, -96.765774], [32.923417, -96.757485], [42.5058, -82.91801], [30.168558, -97.788439], [27.439472, -82.530264], [43.13101, -77.64520999999998], [40.09859, -75.29798000000002], [34.069064000000004, -117.356761], [42.30689, -72.62436], [40.257795, -75.301226], [25.731657, -80.317135], [39.404042, -77.39272700000002], [45.388845, -118.319478], [32.717766999999995, -117.088862], [33.89391, -84.25702], [46.639318, -94.330003], [38.67051, -77.23769], [28.041385, -82.50493900000002], [25.769715, -80.33499599999998], [36.796369, -121.723673], [33.995646, -118.204662], [34.026469, -118.461602], [43.019889, -83.654762], [38.2547, -85.75182], [33.086948, -111.818374], [34.496788, -79.669787], [34.198159999999994, -118.47401], [34.4198, -118.656701], [33.931306, -118.346303], [33.872370000000004, -118.05918], [40.69057, -73.99886], [28.598887, -81.299091], [33.87688, -118.110817], [34.109153000000006, -117.980903], [37.70162, -121.90948], [35.761282, -78.733025], [26.328982, -81.805612], [41.02577, -73.608795], [37.358075, -121.906753], [36.746914, -121.770205], [39.497818, -119.783979], [34.421721000000005, -79.40934], [27.281972, -81.816117], [34.104434000000005, -80.163658], [32.451521, -93.756533], [39.604697, -76.477827], [28.438438, -81.229496], [38.051704, -84.456744], [44.893993, -93.443731], [39.131509, -76.642953], [33.882046, -118.191397], [25.899251, -80.190506], [39.401518, -76.566982], [40.831166, -73.932071], [35.20874699999999, -80.757451], [32.241776, -80.995715], [40.160876, -75.124629], [42.96162, -87.94852], [32.535265, -93.64837], [43.14447, -87.91519], [45.121435, -122.857995], [40.09232100000001, -75.306938], [34.82009, -86.97180999999998], [30.166302, -97.692425], [33.685631, -84.402301], [37.971725, -121.241122], [28.834615000000003, -82.04129499999998], [33.929002000000004, -118.370334], [26.939966, -82.348617], [32.61902, -97.32171], [25.820585, -80.277489], [40.739859, -92.923458], [28.452926, -80.893117], [41.914719, -87.940321], [45.490425, -122.793041], [30.373040000000003, -97.667237], [38.640633, -121.422943], [37.88727700000001, -79.282709], [33.756079, -117.459487], [28.310362, -81.566647], [38.153159, -77.506757], [38.975924, -110.12716], [33.719368, -117.719856], [26.00011, -80.166792], [29.831836, -95.301948], [36.006263, -83.534728], [37.35608, -121.90955], [32.801076, -80.016053], [33.91716, -118.07832], [25.92478, -80.154122], [46.0671, -107.698084], [34.217815, -119.056907], [40.536756, -111.41106200000002], [38.597375, -75.91671600000002], [40.6881, -74.20402], [40.10945, -75.29526], [40.428861, -79.930998], [40.068136, -75.461086], [29.720839, -95.520211], [30.445035, -87.233301], [35.78727199999999, -78.646028], [44.960612, -124.01446599999998], [28.826633, -81.789173], [28.02167, -82.25048000000002], [39.01076, -80.30221999999998], [38.30777, -77.63225899999998], [39.267382, -76.622065], [38.867172, -77.31766800000003], [36.206057, -86.776528], [42.714843, -73.869592], [25.589586, -80.382597], [25.672699, -80.36467900000002], [36.874076, -119.72997], [35.17198, -80.96085], [40.709227, -74.162253], [33.945536, -118.27991000000002], [37.43823, -122.24685], [40.844731, -73.92514399999997], [47.747033, -122.329073], [25.760878, -80.419588], [25.747382, -80.34366800000002], [34.572, -117.409581], [33.83368, -84.33232], [38.155857, -119.350246], [26.09518, -80.168664], [37.157739, -93.286734], [41.98966400000001, -72.587928], [45.097263, -93.051529], [45.52644, -122.68673], [41.9653, -113.05553], [29.61983, -95.38725], [33.93817, -117.400612], [34.063158, -117.396402], [25.971836, -80.205978], [40.120454, -75.249452], [43.400041, -112.109013], [32.925631, -96.834058], [39.709421, -111.836116], [34.500592, -118.228619], [33.989163, -118.284854], [33.834084999999995, -117.25036], [38.90891, -77.00457], [37.411189, -79.921074], [40.00787, -75.7468], [28.41635, -81.42268], [32.327095, -86.250057], [37.84906, -122.29579], [25.761498, -80.35363000000002], [47.65616, -122.07065], [39.886432, -75.000304], [41.742821, -72.73484499999998], [26.22525, -80.13651999999998], [29.853741, -95.37992], [40.692746, -111.902856], [42.97361, -87.9157], [32.751099, -96.816844], [36.20328, -115.0735], [36.011869, -78.51799], [25.71377, -80.382491], [32.964702, -117.247198], [37.308815, -80.066135], [35.79846, -78.56295], [38.409855, -78.92873399999998], [40.419655, -111.876847], [32.76674000000001, -97.06319], [35.395958, -119.14583], [27.84664, -82.34692], [25.668353, -80.322839], [37.879534, -122.307729], [42.74691, -78.837], [33.81709, -117.91734], [35.08553, -85.205954], [39.981595, -120.940787], [33.726506, -117.834782], [29.71976, -95.53897], [33.49483, -112.20323], [38.612224, -121.401475], [41.347922, -75.27972], [34.119212, -83.756739], [38.2704, -85.80851], [35.408613, -119.025436], [34.119194, -117.866969], [33.648095, -78.976434], [40.00462, -75.194979], [39.560611, -107.350868], [28.54015900000001, -81.38817], [40.003749, -75.077014], [26.547295, -81.806027], [27.771044, -82.67530500000002], [35.0187, -85.23969], [28.486758, -81.42279599999998], [29.021726, -81.227663], [42.928875, -85.55991], [36.058045, -78.33925], [25.70688, -80.31772], [29.660084, -82.403662], [41.47097, -87.365], [29.77367000000001, -95.24733], [28.54712, -81.22946999999998], [32.412562, -93.803664], [26.133753, -80.393218], [47.074044, -112.371414], [37.90855, -122.06881], [39.124492, -78.187862], [30.271918, -97.754962], [32.86667, -117.10909], [44.11094, -121.29415], [34.08726, -117.646955], [42.876599, -123.242801], [28.55495800000001, -81.66643], [32.331034, -95.306525], [36.160232, -86.773085], [34.293938, -79.646002], [33.94453, -84.51029], [38.2249, -122.125321], [33.668851000000004, -112.117372], [37.37498400000001, -120.685318], [34.011707, -117.813927], [34.076692, -118.219389], [33.945569, -84.14412], [45.123714, -93.188384], [27.85074, -82.79766], [33.733806, -107.015457], [32.176857, -110.97488], [40.163726, -80.228329], [37.610825, -79.603854], [44.868244, -93.32899], [33.798590000000004, -117.232028], [35.164, -89.86452], [25.731967, -80.384599], [35.088583, -85.06251400000002], [25.714615, -80.380901], [38.504972, -90.588738], [33.87379, -118.22944], [29.674137, -95.570329], [33.987493, -118.137535], [30.317352000000003, -87.424873], [30.450524, -87.256784], [38.23638, -121.28227], [35.446153, -119.093524], [45.64474000000001, -120.98575], [33.57438, -84.56642], [29.732752, -95.440049], [39.3526, -76.74595], [33.627104, -81.047737], [29.41614, -82.109898], [35.36884699999999, -118.955293], [44.94861, -92.927262], [32.77993, -117.096866], [40.56848, -80.02379], [33.084552, -96.771633], [26.169593, -80.85006], [33.852232, -118.279124], [46.348367, -93.99766], [40.397146, -80.104097], [34.863803999999995, -118.23805], [44.947637, -122.99042], [33.994476, -117.967281], [38.79817, -90.58464], [34.13641, -118.009523], [33.8458, -117.82255], [30.139248, -85.441506], [33.391874, -111.967442], [39.24591, -76.576737], [37.160235, -77.69249], [42.349528, -88.16946999999998], [25.712975, -80.382449], [40.267993, -78.86747], [39.22189, -76.66013000000002], [36.310645, -119.13531100000002], [37.490969, -122.217937], [43.668669, -123.202904], [38.89259000000001, -77.42688000000003], [32.722037, -117.102444], [33.873386, -118.214945], [36.066841, -115.27924], [39.151501, -123.196713], [38.67106, -121.590378], [42.117596, -73.956103], [28.34262, -81.483062], [29.726461, -95.466245], [42.5165, -83.66037], [33.757813, -117.80273400000002], [32.809306, -97.05452], [39.04499000000001, -76.93316999999998], [38.87301, -77.042441], [26.747636, -81.76094], [38.922069, -104.719715], [32.831509999999994, -96.78069], [39.367817, -76.516013], [34.133092, -117.953102], [37.55276, -122.30057], [30.437554, -91.084995], [37.577866, -77.465661], [42.169556, -72.459968], [37.831094, -121.606942], [44.86177, -93.30224], [39.98373400000001, -75.208141], [40.705602, -73.996356], [34.016289, -118.158533], [37.572158, -121.888664], [26.060483, -80.21514300000003], [25.78849, -80.207627], [33.744574, -84.389093], [38.867505, -94.800697], [32.901540000000004, -96.8979], [33.945968, -118.368289], [40.718754, -74.13586], [34.468889000000004, -119.772778], [29.5449, -95.14591], [33.523087, -112.269193], [33.91173, -118.16002], [37.75835, -122.2121], [33.70167, -84.10795], [33.70345, -84.16691], [41.6087, -83.69113], [42.272297, -85.43448199999997], [45.417841, -122.434277], [32.677859999999995, -97.092893], [40.33919, -74.67647], [33.885659999999994, -117.88068], [37.72476, -121.325741], [38.355948, -123.066393], [32.313578, -111.218164], [34.088093, -117.302032], [35.794013, -78.62469399999998], [42.23984, -83.19891], [36.765982, -76.264553], [47.474193, -115.903401], [35.65927100000001, -119.077538], [41.79673, -87.8075], [33.852090000000004, -118.285055], [29.533337, -98.487737], [34.114153, -117.488477], [39.90851, -86.319074], [33.059016, -96.692955], [38.790128, -76.998452], [41.227239, -76.987889], [41.4506, -114.756124], [37.697716, -122.470625], [33.848483, -117.534193], [41.64488, -72.67513000000002], [38.64904, -121.327636], [35.30591, -80.74973], [45.133226, -122.899077], [33.931025, -118.325049], [28.328227, -82.666139], [42.446218, -87.85476899999998], [42.272689, -122.806045], [40.042096, -75.57906700000002], [25.945115, -80.205365], [34.030516, -117.658253], [33.966988, -117.32721399999998], [32.911378000000006, -96.8185], [30.378003000000003, -87.311272], [32.929447, -96.80346], [44.886863, -93.333804], [33.7791, -117.888768], [39.495263, -76.667182], [39.019883, -76.41472900000002], [39.079581, -94.563027], [40.088597, -75.16356], [40.186218, -77.230228], [29.613785, -95.40104], [29.685303, -95.511552], [33.129261, -117.097231], [28.538308, -81.475726], [30.065326, -81.498072], [25.851774, -80.221497], [41.518782, -88.19073], [34.457263, -117.57274], [41.574133, -87.48664699999998], [26.300299, -80.120712], [33.923711, -118.325633], [43.41482, -70.557], [47.546029, -122.28572], [37.696231, -120.958067], [36.110302, -86.738198], [37.208173, -93.292305], [27.861951, -82.32669399999997], [38.894101, -77.014042], [33.989134, -118.289254], [33.586337, -112.117475], [40.175107, -122.237181], [41.227609, -76.98892099999998], [26.042118, -80.208662], [25.984755, -80.165705], [45.375932, -122.600736], [34.985562, -118.944915], [37.586964, -77.337988], [33.793453, -117.878803], [45.11505800000001, -122.917085], [40.737701, -73.851996], [28.648163, -81.268608], [34.274744, -82.06594799999998], [35.24317, -80.78009899999998], [33.214028000000006, -117.389342], [40.26795, -74.510296], [34.184422999999995, -117.18165], [45.59554, -118.614243], [35.99764000000001, -86.79669], [39.606268, -77.76110600000001], [33.951468, -80.968509], [36.968013, -121.719531], [39.802718, -75.348481], [38.760677, -121.260062], [30.575238, -81.645911], [31.76275, -106.26677], [39.206618, -121.249951], [47.1597, -122.4662], [45.614178, -94.51079], [40.123653, -75.04239799999998], [40.664895, -73.996599], [40.109281, -75.597482], [28.275264, -81.081249], [32.361634, -86.175459], [34.040785, -118.579056], [40.84005, -73.92905999999998], [44.87176, -93.41593], [25.731345, -80.367727], [33.982625, -117.708999], [30.444274, -87.239857], [34.834808, -82.442042], [41.88008, -87.77466], [29.79659, -95.579627], [43.40087, -97.42082], [47.30845, -122.299972], [34.260975, -118.472108], [45.79328, -119.38027], [33.443751, -79.547864], [30.189684000000003, -81.73947700000002], [37.64876, -122.09684], [35.37927600000001, -77.937351], [37.588711, -77.572476], [39.391355, -84.363167], [36.1449, -86.77696999999998], [37.321185, -121.95026], [31.812092, -85.991251], [38.79531400000001, -77.170887], [25.94459800000001, -80.121172], [37.769232, -109.374045], [39.90076, -76.64305], [33.818987, -118.297235], [35.163649, -80.876024], [32.88064, -117.10889], [35.231777, -80.675508], [43.61953, -116.351918], [29.962447, -90.113622], [43.18652, -84.16895], [30.476611, -91.16725], [36.022206, -119.039622], [38.939698, -92.591603], [38.923647, -76.930589], [25.889321, -80.165463], [30.574790000000004, -81.645809], [34.989513, -81.965807], [25.775903, -80.19955], [38.351109, -79.03213199999998], [38.177744, -120.386232], [32.29458, -110.738046], [26.48655, -80.08998000000003], [42.35633, -83.05122], [40.65309, -111.956701], [35.824371, -86.836901], [30.637236, -86.547849], [35.22862999999999, -80.82996], [32.543605, -117.086355], [44.890749, -93.318826], [39.357115, -77.561212], [25.577061, -80.371183], [25.684943, -80.35309000000002], [37.771028, -122.453902], [45.717798, -112.259298], [41.068707, -73.868095], [40.98493, -73.83861999999998], [40.180364, -75.637778], [28.378598, -81.400582], [32.323905, -86.335565], [32.963445, -117.096472], [40.779587, -73.57100799999998], [25.769127, -80.350943], [40.6794, -111.9022], [38.677658, -121.854503], [42.74100000000001, -83.45004], [33.849761, -117.848657], [27.16091500000001, -80.304377], [26.576855, -81.65629], [46.38799, -94.13896], [39.01345, -77.03894], [34.302178999999995, -117.460096], [33.941012, -118.096595], [29.760374, -95.476073], [39.442087, -76.343275], [38.903466, -77.94406], [30.54273, -91.02872], [34.774654, -82.389709], [38.020274, -121.88818700000002], [34.136484, -117.441776], [39.29258400000001, -80.512794], [28.051488, -80.671239], [34.030478, -117.597656], [29.288853000000003, -94.846011], [45.448738, -123.14262], [39.780067, -104.936717], [41.072127, -78.488423], [28.609575, -81.415572], [38.651076, -121.07655], [33.928875, -118.300308], [33.994240999999995, -117.893418], [44.56601, -123.15984], [39.43522, -76.633661], [32.250366, -110.931121], [33.87344, -118.01006], [39.92571, -75.04952], [42.929496, -83.31309], [44.644029, -123.926542], [39.661249, -75.652777], [38.551801, -121.432201], [34.22045, -117.3992], [33.207159999999995, -117.385003], [32.296725, -89.799424], [37.01022800000001, -121.515662], [36.77189, -119.854463], [28.551914, -81.491106], [40.805701, -73.92145500000002], [30.429295, -91.057221], [35.8988, -78.76176], [39.311993, -120.495855], [34.018145000000004, -118.289004], [28.035054, -80.624708], [33.618564, -117.711811], [31.76271, -106.48659], [32.779197, -117.070123], [41.326156, -123.520027], [35.46418, -97.619], [35.031183, -118.970829], [38.669668, -77.256982], [26.112221, -80.168532], [41.746101, -87.842523], [41.11746, -74.11789], [30.131869, -81.78420200000002], [38.675994, -122.591979], [42.66475, -73.72852900000002], [40.790769, -123.436934], [39.903859, -74.96668100000002], [36.954126, -76.258328], [41.14586, -74.02291], [44.80535, -95.52912], [40.7686, -104.791384], [36.233012, -86.768387], [33.487648, -111.925511], [33.419248, -111.901623], [36.216783, -86.623508], [37.316752, -121.922068], [39.02464000000001, -94.69139], [32.808903, -97.205166], [34.07145, -117.86818999999998], [33.85151, -117.841272], [46.77364, -122.21758], [25.970853, -80.301078], [26.007649, -80.346212], [44.384261, -93.442529], [30.562702, -87.282066], [36.254064, -86.650345], [29.791608, -95.276238], [36.05148, -86.66975699999998], [38.671671, -77.246922], [37.841924, -122.259968], [35.40622000000001, -97.54795], [47.114559, -113.439752], [27.898145, -82.351881], [26.19721, -80.14988699999998], [33.582383, -117.132765], [39.532162, -87.08921099999998], [34.1523, -80.85763299999998], [38.02368, -121.97127], [25.986394, -80.165897], [33.859602, -117.258571], [38.772624, -77.304407], [39.98251, -76.669854], [33.86009, -117.71647], [38.74849, -77.08294000000002], [35.834318, -78.315529], [40.771175, -73.279827], [40.264638, -79.677937], [45.05345300000001, -95.043209], [40.041432, -76.295513], [34.09261, -118.30789], [25.65339, -80.38587], [37.316919, -121.926301], [43.071508, -71.452166], [33.888886, -118.189787], [38.431077, -122.715506], [32.917105, -117.116196], [30.261974, -97.742293], [38.917239, -76.972527], [33.9597, -117.85732], [44.95391, -93.07261], [42.781398, -86.02808], [34.065265999999994, -118.251718], [43.151212, -77.539124], [45.985443, -92.947828], [28.393534, -81.618998], [29.7339, -95.1464], [33.965412, -118.165024], [34.809534, -92.318446], [37.673006, -77.536425], [30.474346, -83.884037], [34.066191, -117.479175], [33.743272999999995, -84.371985], [25.755027, -80.406097], [44.06767, -121.30725], [45.0212, -93.34856], [45.150832, -122.870241], [40.822051, -97.299653], [47.407711, -97.073639], [34.277352, -118.611849], [39.98439000000001, -82.85677], [39.02837, -77.30524], [34.064471999999995, -117.302023], [25.907309, -80.344037], [41.799092, -87.802025], [43.191558, -77.682126], [30.501274, -91.158799], [40.602507, -79.503654], [37.959772, -122.330645], [28.552633, -82.413286], [33.883594, -117.641075], [42.97413, -85.59679], [33.091839, -84.910615], [33.862903, -118.285247], [43.597624, -116.350197], [38.2741, -122.049232], [42.239689, -123.088233], [36.064129, -95.886296], [29.804804, -95.375606], [39.63329, -77.45298000000003], [33.978138, -117.842112], [47.522947, -111.281641], [34.048435999999995, -81.052228], [33.75544, -84.46677], [35.015213, -85.163684], [33.984953999999995, -118.072392], [37.502529, -121.949071], [38.93904000000001, -76.06246], [32.677194, -96.822465], [45.861428, -114.037495], [38.237271, -121.518119], [37.50316, -122.24412], [45.6929, -121.835643], [34.067586, -81.170996], [39.749236, -75.556846], [26.72375, -80.09163000000002], [41.633044, -72.686737], [35.40251400000001, -119.041064], [34.05815, -118.178467], [37.83583, -122.484694], [34.027746, -118.4523], [38.304409, -87.567335], [25.957959, -80.171801], [29.704022, -95.56896], [30.33279000000001, -81.67169], [26.546544, -81.84304399999998], [44.78229, -117.81206], [37.9982, -121.817097], [41.683118, -93.038991], [33.65932, -111.93121], [37.163924, -76.57736899999998], [45.329265, -122.769546], [33.004465, -96.783753], [25.748334, -80.28935899999998], [33.824379, -118.290208], [35.27162, -120.672186], [44.951723, -93.081648], [37.524901, -122.358233], [29.749187, -95.395889], [43.03329, -87.96672], [31.32371, -89.360561], [38.349269, -77.961698], [42.339912, -88.004764], [38.888975, -76.90842099999998], [37.541562, -77.42710100000002], [29.84562, -95.39289], [35.89425100000001, -78.55915], [44.951816, -93.347793], [36.92111, -120.0184], [35.817242, -78.607188], [42.43983, -83.21961], [39.364433, -90.410583], [41.738772, -74.06506999999998], [38.629154, -121.215842], [35.212529, -80.893192], [30.405374, -91.098295], [28.955959000000004, -82.039772], [32.725878, -117.073091], [37.387474, -121.98341], [37.79736, -122.213662], [40.779618, -74.201081], [37.374469, -121.931322], [34.08617, -118.21521], [38.618656, -121.52958], [38.54237, -121.73302], [41.04778, -73.83440999999998], [33.94577, -118.09436], [39.530499, -121.46711], [41.027399, -76.438203], [40.81364, -74.139143], [32.862958, -96.715677], [39.341751, -120.163124], [30.663351, -87.85207700000002], [30.182445, -97.687603], [25.700661, -80.380507], [37.222656, -79.093983], [32.14148, -110.8579], [25.598691, -80.351045], [30.349019, -91.079338], [37.865199, -121.667654], [35.49415, -97.53227], [33.18719, -117.359879], [44.639221, -123.062227], [26.522195, -81.869685], [33.978496, -118.23788], [25.811537, -80.360987], [41.68675, -87.6011], [35.705742, -119.063046], [32.760366, -117.162935], [43.614112, -119.001624], [33.52791, -112.04371], [33.778883, -117.877287], [37.42524, -122.098], [41.76892, -87.62562], [34.1627, -118.62878], [39.08418, -94.56776], [38.482549, -122.442542], [34.009377, -117.824019], [38.185558, -85.820277], [44.819794, -93.208844], [33.86931, -117.75096], [39.834355, -123.635448], [41.17644, -80.56087], [32.167759999999994, -110.9682], [36.66619, -121.814722], [35.09349, -80.79397], [33.835074, -117.835594], [38.54097, -121.473727], [33.880368, -118.168728], [35.66030100000001, -109.073907], [32.632194, -110.739387], [38.03247, -78.59883], [39.950755, -76.747286], [38.835718, -94.84381], [30.182951, -97.687715], [37.745668, -97.280754], [39.03766, -94.36184], [26.014923, -80.167252], [47.107654, -122.579974], [29.82857000000001, -95.38091], [38.715622, -77.21601899999997], [44.870794, -122.65221], [34.110419, -118.334407], [40.83982, -73.92867], [40.86082800000001, -76.584885], [32.88427, -117.20211], [39.129895, -121.072942], [40.482631, -74.416453], [34.129187, -118.082201], [30.265444, -97.703618], [44.765705, -93.217437], [47.240909, -122.399853], [33.552644, -112.208731], [27.25819000000001, -80.41959], [25.796831, -80.36641], [38.01258, -122.00257], [34.877534000000004, -82.320082], [45.03576, -92.80746], [34.062882, -118.248566], [39.09283, -77.0795], [34.682902, -117.960916], [37.822183, -121.291833], [39.890938, -75.226961], [25.787047, -80.1867], [34.180422, -118.931477], [41.146715, -111.961592], [42.197156, -87.990561], [37.37567, -122.067965], [38.012974, -121.863613], [38.171445, -121.592768], [35.702765, -78.581975], [35.031551, -85.273659], [34.06389, -117.81483], [28.44618, -81.47417], [43.40431, -70.56306], [40.841231, -73.92860300000002], [37.78272800000001, -79.4004], [38.93334, -76.91999], [29.65966, -82.42525], [34.13754, -83.95271], [34.721399, -111.989529], [27.099792, -82.444277], [34.310405, -83.638082], [30.25668, -97.893135], [40.098224, -76.305187], [25.916878, -80.21006899999998], [40.57102, -76.746988], [40.852862, -73.959259], [27.98435, -82.45384], [34.057941, -118.255208], [38.920546, -110.430029], [25.957478, -80.20089499999997], [34.70817, -118.79607], [45.820433, -118.402685], [34.02391, -117.76547], [34.014871, -118.485935], [35.164, -89.86452], [28.277038, -81.598109], [34.157818, -118.45282], [25.889774, -80.16356800000001], [36.077048, -86.634778], [25.750508, -80.368004], [38.507906, -120.945492], [37.99231, -122.30679], [35.443727, -82.537974], [32.768794, -117.143343], [38.599252, -121.469804], [34.071940000000005, -117.87694], [32.87428, -117.106972], [33.765491, -117.920225], [34.87671, -82.322176], [33.930766, -118.378437], [37.443441, -121.920611], [40.26099, -76.73178100000001], [36.03675, -79.78778], [34.02506, -118.20447], [37.372473, -122.257543], [41.735196, -72.742942], [28.185886, -82.427769], [35.83714699999999, -78.663088], [39.108291, -77.184587], [38.65844, -90.44844], [30.033654, -89.986696], [39.169467, -76.632927], [39.920506, -75.324023], [45.558995, -122.678473], [38.697696, -90.450827], [29.719948, -81.335451], [25.684604, -80.400559], [32.924405, -96.770136], [30.217557, -81.568934], [39.647044, -78.77279899999998], [29.921692, -90.015888], [47.66967, -122.18685], [25.67215, -80.372759], [43.803576, -122.562663], [36.97822, -122.031694], [35.814392, -78.675674], [45.268709, -123.836752], [33.939155, -117.1994], [39.205833, -76.689307], [37.344726, -120.613318], [45.591696, -118.540849], [38.13416, -122.47644], [36.854201, -76.177829], [40.89602, -74.133258], [39.017845, -77.10935400000002], [33.962867, -80.464805], [33.861867, -81.202055], [28.75613, -81.33341999999998], [45.972131, -119.005233], [30.165924, -85.756512], [39.91368, -86.08613000000004], [45.85848, -123.55246], [43.974085, -92.444534], [34.075077, -118.274297], [38.918743, -76.953779], [38.585028, -121.45534], [39.20135, -84.52091], [33.48023, -112.04764], [44.509882, -92.849852], [42.16959, -87.922327], [38.918455, -76.930464], [47.77778, -122.335032], [40.16786, -74.896334], [32.174890999999995, -110.84104], [39.096211, -94.584141], [39.123264, -94.587308], [42.590674, -85.662938], [40.64659, -74.57882], [25.746604, -80.36884], [45.69648, -121.29088], [25.947414, -80.148699], [34.722919, -82.737887], [34.170872, -79.764955], [39.34034000000001, -120.34406], [28.127797, -82.502321], [43.11643, -77.55733000000002], [34.24347, -81.626828], [40.058029, -77.481347], [36.860107, -121.653359], [43.104184, -89.31641], [34.857063000000004, -82.140213], [26.416851, -80.171452], [41.2825, -72.95343000000003], [33.82660300000001, -118.208805], [36.923734, -120.022147], [39.48836, -75.717561], [38.54629, -90.42988], [37.71820200000001, -121.700389], [38.775893, -77.550126], [38.596173, -121.412259], [32.771533000000005, -96.799974], [45.244765, -122.584305], [33.87654000000001, -118.10733], [37.814501, -122.300287], [32.748925, -97.220465], [33.55239, -83.36246], [34.030438000000004, -117.581799], [34.507031, -82.603898], [25.868913, -80.216018], [36.029953000000006, -86.592251], [41.608389, -87.681595], [36.479738, -119.330969], [45.51695, -122.68778], [43.096818, -78.40412099999998], [25.640555, -80.385643], [34.704469, -118.794704], [33.82521, -117.52364], [40.847265, -73.933346], [28.81142, -81.33807], [39.261926, -121.073924], [33.92795, -118.27541], [41.842857, -91.66592], [25.75594, -80.32023000000002], [38.631246, -90.253827], [38.045515, -120.208011], [39.7178, -104.9406], [40.030863, -124.049026], [40.30735, -75.9002], [33.989043, -117.360912], [29.609161, -95.273666], [34.4284, -119.770095], [44.00215, -123.01764], [25.931514, -80.293555], [40.038147, -82.903051], [36.079369, -86.63255799999996], [27.71317, -82.394062], [44.824218, -123.017713], [28.553617, -81.379198], [36.61953, -80.73822], [38.842021, -77.08430600000001], [44.03061, -92.48818], [34.136294, -117.361673], [30.400944, -91.118177], [40.097624, -74.781334], [32.881782, -80.01883199999997], [34.91771, -82.10178], [29.252395, -82.18997900000002], [27.766496000000004, -82.675331], [37.70107, -121.81282], [35.009085, -80.97090899999998], [33.766335, -86.467515], [25.85456, -80.322404], [30.422857, -84.913625], [39.12650900000001, -77.116416], [25.671948, -80.384119], [39.96524, -74.91301999999997], [41.82518, -71.51558], [40.828003, -73.843476], [41.287706, -72.823136], [42.443157, -121.867743], [47.561212, -122.674608], [30.216935, -97.834075], [25.942666, -80.204071], [38.092314, -122.233661], [37.700124, -122.06128], [27.817353000000004, -82.744148], [38.147093, -121.150656], [40.713776, -111.82488700000002], [27.950195, -82.524091], [41.79667, -87.74295], [38.657615, -121.272241], [36.15326, -86.63306], [33.988476, -117.90566], [38.45539, -122.72611], [35.76687000000001, -78.46422], [30.521981, -87.267905], [40.828857, -73.843776], [35.58499099999999, -82.602917], [34.723725, -82.780919], [28.74873, -81.36618], [32.903651, -96.722807], [45.44042, -93.58301], [32.456747, -93.707719], [27.990768, -82.708889], [30.444035, -97.667723], [27.988819, -82.779547], [34.756281, -82.267472], [41.011501, -74.106849], [33.91146, -118.37033], [37.58226, -122.25285], [29.79647000000001, -95.56363], [47.22717100000001, -122.462788], [32.206581, -110.839692], [37.686528, -122.101973], [38.470702, -77.403613], [30.15353, -89.85562], [34.34574, -79.529803], [40.034789, -76.305122], [40.19814, -74.75278], [36.360529, -82.694102], [30.505457, -87.22028399999998], [33.775309, -117.873526], [25.68743, -80.349664], [40.200574, -75.304425], [29.10629, -82.102808], [36.844824, -76.17055500000002], [38.791468, -77.163814], [39.910444, -104.990941], [44.74549, -93.2829], [36.557117, -87.24834], [39.547594, -107.790278], [34.033961, -118.027414], [34.10375, -117.98352], [35.731108, -78.627463], [41.16767, -83.64988000000002], [46.847348, -96.730186], [34.05819, -117.17049], [44.969486, -93.304506], [39.790411, -77.254891], [29.901940000000003, -95.41219], [35.785931, -78.617317], [36.843904, -76.210316], [39.846822, -74.224373], [45.70545, -120.30104], [40.73208, -73.87064000000002], [39.981081, -76.31768000000002], [42.3209, -83.74053], [42.38195, -83.40484000000002], [38.650984, -75.90299], [25.700738, -80.383452], [39.32844, -77.02133], [33.976797, -117.916002], [28.484079, -81.24125], [37.079509, -121.978507], [37.08369, -121.10158], [33.92729, -118.26005], [32.192186, -110.860149], [25.947289, -80.152018], [39.57574, -82.52189], [34.06747, -117.54391], [35.26440200000001, -112.047722], [37.507807, -121.030873], [41.208252, -111.97926], [40.699881, -73.961751], [34.083105, -118.228135], [39.129277, -76.862787], [37.076376, -119.695167], [39.491804, -77.562628], [38.553247, -121.436352], [34.06872, -117.83948999999998], [36.955731, -119.793935], [34.098027, -117.925395], [38.620489, -121.4207], [25.747541, -80.336836], [37.307327, -77.39536600000002], [34.06841, -118.03837], [39.297764, -76.855426], [41.05065, -80.66278], [31.78129, -106.40695], [36.882019, -76.431156], [28.553146, -81.373299], [41.814936, -71.4028], [28.23303, -82.35714], [25.609438, -80.365235], [25.577361, -80.370664], [33.79551, -84.39255], [37.80245, -122.458557], [39.78002, -104.9593], [37.400755, -122.036389], [25.899633, -80.18226999999997], [36.959931, -121.861631], [33.961024, -81.080366], [38.31095, -112.65354], [36.608783, -120.186946], [37.551022, -77.438389], [32.72043, -96.82466], [36.763319, -76.537402], [33.733675, -117.990959], [29.956889, -90.079922], [38.375427, -122.779679], [35.429931, -119.071637], [41.809169, -72.52838], [25.642714, -80.334553], [45.37478, -122.75543], [28.449924, -81.479136], [39.812, -75.457], [31.73783, -83.65341], [34.734728000000004, -82.23204100000002], [43.93437, -92.31956], [41.85348, -88.03923], [38.105086, -121.701656], [32.88, -85.14881], [32.798041, -96.670857], [43.14616, -77.463431], [39.249313, -76.678476], [34.58696, -79.1243], [37.733241, -122.405687], [35.136759000000005, -80.937679], [33.976523, -118.225221], [34.986111, -118.945], [38.379331, -75.174132], [37.333917, -122.049132], [48.446075, -115.875106], [30.65180100000001, -87.75689], [34.884654, -82.195448], [33.62058, -84.4812], [45.09038, -93.18908], [32.91519, -96.74126], [45.415538, -122.74416], [32.850556, -117.234338], [30.204348, -97.643127], [34.351168, -119.302843], [28.547104, -81.228972], [44.859315, -93.247211], [28.42542700000001, -81.40479], [25.596404, -80.478504], [33.92492, -118.10422], [33.424947, -110.729013], [32.780776, -96.802424], [40.161941, -75.295322], [42.44102, -83.7551], [28.071666, -80.704933], [41.01208, -73.702372], [40.341905, -78.402813], [30.313947, -81.658375], [34.00813, -81.1109], [25.86823, -80.234413], [41.95423, -87.67378000000002], [42.38413, -83.314288], [39.09631, -94.56717], [38.92015, -77.39744], [34.040837, -118.170209], [27.87226, -82.74568000000002], [38.354671, -81.649876], [34.152185, -118.36148], [43.110126, -75.18095100000002], [27.992037, -82.37015600000002], [25.762712, -80.40086], [35.043092, -85.115686], [35.082737, -85.078125], [25.942311, -80.182163], [44.159642, -121.25946100000002], [25.519022, -80.510318], [41.267856, -73.934136], [37.62336, -120.944065], [39.4099, -76.487617], [38.72825, -77.50347], [34.037822, -118.272725], [38.18633, -85.7242], [33.4804, -112.02158], [42.43322, -83.21954000000002], [41.532014, -112.065939], [40.151134000000006, -79.56081], [40.331032, -75.939705], [32.210079, -110.841074], [32.67781, -97.12], [40.01865, -76.74208], [38.459727, -121.859375], [25.78356, -80.20132], [43.177747, -83.705515], [45.592345, -122.780783], [41.860591, -87.992749], [30.494503, -87.222371], [42.24534, -83.31713], [34.380737, -118.406992], [37.14509, -121.98468], [45.21458, -93.03431], [37.552658, -120.904953], [41.91582, -87.66803], [38.814135, -121.192284], [30.4266, -81.656527], [37.942389, -78.11301800000003], [37.46942, -122.29123], [30.11670100000001, -97.630488], [38.012448, -122.271662], [45.655757, -110.946604], [44.746234, -93.379604], [28.3924, -81.36756], [38.58169, -90.22386], [29.73974500000001, -95.477136], [33.799671999999994, -84.39115600000002], [32.836929999999995, -96.778585], [34.426961, -119.728457], [28.471551, -81.39654499999997], [35.08302, -82.00285500000003], [37.792623, -121.189947], [34.035647999999995, -117.32717], [40.219668, -109.683005], [28.568399, -81.284728], [36.87208, -76.195571], [34.139775, -80.91598], [34.216178, -80.58698000000003], [37.70287, -122.01694], [33.033049, -117.279158], [39.354625, -76.499087], [40.845262, -73.927777], [38.803035, -77.60975], [26.185261, -80.152076], [39.48724, -86.01516], [32.286565, -110.978113], [33.823028, -118.28747], [37.978915, -122.043248], [36.129712, -86.66525899999998], [40.001403, -77.10528000000002], [33.808354, -81.005533], [34.013105, -117.077429], [41.756941, -72.662297], [45.553626, -122.678731], [35.29535900000001, -80.755398], [35.125446999999994, -118.398424], [40.59556, -80.273944], [36.06702, -80.21126], [41.190682, -73.298074], [35.26162100000001, -80.877567], [25.785345, -80.25018399999998], [32.84103, -117.13361], [36.15258, -86.846007], [43.01848, -78.192948], [39.782269, -86.03191], [28.550705, -81.447503], [33.376533, -117.242735], [30.471222, -91.103845], [38.34052, -121.3342], [36.904369, -121.745991], [28.111563, -81.621092], [42.947032, -78.90897700000002], [39.071217, -122.781981], [27.96042700000001, -82.45421800000003], [37.284727, -76.712879], [25.759954, -80.40365200000002], [42.322353, -83.215257], [25.747956, -80.323638], [33.122846, -80.064298], [33.601979, -117.686293], [34.223023, -118.19056299999998], [38.090207, -122.225222], [28.261431, -81.617102], [39.263926, -76.566025], [39.026411, -76.981431], [33.87269000000001, -118.05933], [34.480312, -80.996023], [28.357448, -81.491626], [39.68352700000001, -75.587713], [32.866440000000004, -96.88175], [34.365011, -118.503466], [41.15077, -122.66767], [28.527691, -81.847192], [40.565428, -74.324517], [29.86342, -95.5327], [33.980409, -118.43906], [44.98455, -93.08908], [37.263725, -121.858645], [36.10926, -86.723295], [39.09891, -94.57281], [40.09129, -82.81808000000002], [42.066704, -88.15342700000002], [34.883063, -120.436649], [45.17212, -122.44113], [39.009255, -77.451717], [25.79808, -80.337137], [34.068603, -117.376453], [28.20817000000001, -82.18500999999998], [32.716729, -96.8133], [25.871918, -80.339039], [38.74104000000001, -120.66241], [38.909759, -119.962022], [43.283096, -85.54140600000002], [44.77844, -93.21707], [35.30813, -80.76007], [40.822965, -73.934336], [29.709427, -95.267386], [44.87452, -93.03533], [35.834538, -78.58268100000002], [33.873971000000004, -118.248778], [40.435556, -79.967905], [40.370039, -74.246779], [40.004898, -75.221388], [45.9327, -118.38762], [30.302063, -81.640874], [45.708092, -95.221885], [33.03623, -117.28127], [40.745469, -73.970404], [33.422159, -111.891371], [29.7036, -95.58994], [33.480469, -79.09906099999998], [40.804906, -73.279658], [28.667706, -80.878609], [36.779108, -76.3892], [36.85382, -121.771133], [36.144156, -86.73865699999998], [38.935785, -77.20786600000002], [44.06427, -123.10045], [32.790894, -96.792033], [40.734289, -74.121998], [33.950461, -117.303118], [33.928846, -118.169688], [33.179763, -117.310625], [38.731086, -77.104039], [45.310824, -122.769522], [32.868945000000004, -117.233671], [34.744809000000004, -120.514837], [25.942666, -80.204071], [27.9747, -82.45363], [26.6317, -80.06806], [39.300561, -84.518875], [25.927058, -80.2069], [35.441282, -119.086148], [36.98471, -121.951773], [32.587173, -93.806274], [44.96602, -93.26767], [25.76105, -80.481499], [27.923453, -82.76241], [39.496524, -119.78418], [29.74114, -95.4583], [44.28735, -93.30869], [25.624187, -80.414429], [45.175936, -91.533726], [36.89562, -121.42729], [40.101962, -82.931294], [25.900215, -80.29214499999998], [43.175088, -77.732363], [45.530721, -122.68687], [33.901613, -117.383335], [33.9512, -80.98607], [40.526837, -74.338892], [32.694336, -117.129997], [34.021784000000004, -118.163761], [38.800444, -77.16551700000002], [25.579684, -80.478413], [45.53144, -122.6869], [39.10542, -94.71629], [32.505734999999994, -93.746112], [36.149657, -86.859922], [25.831296, -80.239112], [34.440246, -119.754589], [31.65384, -106.23515], [42.789188, -83.76818], [33.791126, -97.722971], [34.056878999999995, -117.298067], [26.09033, -80.21549], [34.06765, -117.296008], [30.413125, -91.145426], [33.76182, -80.956764], [40.357075, -75.974338], [34.969861, -82.000596], [34.218172, -112.75], [40.760682, -73.963769], [33.645619, -117.86026499999998], [46.43799, -95.124484], [32.501812, -93.755508], [43.028502, -83.713027], [39.032812, -76.94454499999998], [32.349643, -95.300633], [33.772207, -84.327342], [36.058341, -80.209475], [34.146238000000004, -118.070819], [25.934568, -80.215162], [30.577579, -84.70048], [35.078474, -89.907032], [33.74555, -84.33967], [25.714078, -80.425298], [33.38596, -111.86812], [37.03485, -76.35653], [41.778618, -107.28463700000002], [36.430282, -78.431791], [27.397016, -82.533062], [40.720671, -73.399626], [42.669664, -73.73754100000002], [37.641443, -77.516102], [39.803138, -78.950041], [34.049561, -118.213986], [34.03033, -117.64509], [35.128021999999994, -90.023914], [40.417681, -77.930799], [41.17768, -112.002036], [33.49135, -112.11296000000002], [39.018342, -76.969865], [34.812487, -118.326187], [44.118508, -119.987708], [30.40878, -91.102789], [38.93343400000001, -94.620013], [28.41691, -81.47399999999998], [32.965771000000004, -83.289333], [36.435494, -120.394168], [34.140745, -118.471158], [39.965461, -76.68055600000002], [39.09354, -94.64318], [30.44074, -91.17801], [43.090486, -75.629913], [25.9423, -80.30935600000002], [25.925005, -80.173991], [33.974908, -118.394154], [35.543652, -119.286577], [39.254189, -123.199797], [34.042977, -118.217081], [44.52097, -124.07002], [29.957431, -81.444343], [40.019224, -75.703073], [33.68779, -117.91186], [30.488453000000003, -91.128198], [38.189513, -120.67463], [37.532161, -77.378178], [33.132042, -117.121484], [40.584193, -95.652004], [43.21117, -123.35497], [44.952868, -93.095086], [41.622303, -93.5759], [38.015037, -121.860039], [38.808359, -77.154443], [40.217138, -76.091018], [32.741332, -96.823847], [33.953245, -118.369267], [41.19036, -73.6874], [40.10973, -111.63176], [42.152234, -88.029566], [41.667891, -72.665301], [41.351197, -72.86766800000002], [42.0286, -71.26198000000002], [37.51753, -77.42603000000003], [27.956025, -82.465486], [40.8046, -73.9119], [35.795465, -78.514939], [33.940657, -118.096164], [41.682257, -87.778397], [44.30751, -90.83762], [24.911233, -80.643164], [40.008655, -79.093215], [40.474137, -74.408179], [33.967599, -118.161907], [32.749868, -117.123216], [35.771239, -78.62104000000002], [28.27219, -81.42328499999998], [37.788689, -122.18143700000002], [28.998258, -81.64206], [32.684401, -96.814538], [38.384294, -75.431741], [37.140311, -122.103529], [38.564048, -121.382681], [39.88653400000001, -75.104016], [37.190541, -121.693282], [37.178687, -122.139396], [39.672821, -86.358171], [25.822605, -80.24887], [34.044313, -117.156825], [34.136224, -117.412505], [33.638605, -112.349839], [28.477371, -81.417455], [42.392238, -82.999938], [39.04303400000001, -76.60743000000002], [33.877763, -118.016421], [38.984358, -76.584435], [35.290231, -80.733653], [34.068670000000004, -118.04221], [41.543249, -72.752874], [34.012695, -117.437721], [41.041043, -76.140375], [34.171074, -118.521355], [28.255697, -81.470212], [30.02598, -90.02443000000002], [26.21770200000001, -81.73635999999998], [33.92501, -118.333333], [39.885439, -104.98767], [39.933124, -105.123779], [37.595269, -77.575877], [30.321883000000003, -81.697011], [36.61976, -119.78612], [42.703081, -73.849992], [33.916409, -118.35471499999998], [38.45906, -90.37459], [38.686488, -121.225464], [33.710546, -117.781931], [40.55949, -111.90274], [39.04746, -94.4519], [40.10155, -123.794894], [45.054556, -93.187869], [39.106444, -94.820459], [33.488763, -117.664164], [40.802259, -76.975643], [35.3058, -80.74959], [41.632894, -72.45596], [26.11304, -80.30656], [37.653689, -77.451134], [37.580253000000006, -120.947799], [38.636748, -77.351648], [38.564176, -121.382565], [40.84396, -77.81826], [30.289465000000003, -81.980366], [24.594563, -81.6622], [40.07132, -80.73243000000002], [35.01391, -85.211089], [38.12863, -77.51318], [47.889859, -117.830498], [37.616962, -77.444139], [33.976310999999995, -118.386349], [38.935463, -76.91676600000002], [38.916717, -94.767154], [30.234019, -97.740903], [34.001649, -118.174112], [33.730521, -78.949342], [39.633597, -77.814563], [41.87342, -87.81537], [34.07887, -118.21998], [39.018342, -76.969865], [29.971104, -90.06719], [39.85986, -75.13750999999998], [36.14154600000001, -95.975625], [34.796851000000004, -118.866064], [35.368654, -118.964012], [28.116629, -82.74002800000002], [29.760126, -95.455763], [25.984755, -80.165705], [33.842053, -118.28621499999998], [46.170208, -123.730657], [33.673373, -117.886069], [39.37046, -76.60983], [47.58624, -122.22848], [44.88709, -93.32895], [37.879938, -122.307819], [30.261765000000004, -82.165514], [28.21703, -82.69264], [35.74110800000001, -78.670082], [33.853743, -117.924342], [34.117378, -117.974497], [34.14793, -118.082199], [38.62406, -121.41761], [43.05054000000001, -71.43746], [40.960561, -73.850365], [36.684267, -77.400961], [38.8325, -82.14468000000002], [38.39926, -120.633172], [29.957324, -81.44455699999997], [36.53542, -119.58232], [27.894853, -82.729023], [47.028592, -114.741202], [34.031117, -118.169129], [32.953198, -80.16211899999998], [28.473451, -81.396745], [37.874507, -122.306036], [36.20607800000001, -86.771015], [28.149167, -82.69556999999998], [26.548679, -81.87167], [34.135219, -118.358888], [40.425449, -78.678427], [38.334193, -77.086248], [33.96679, -118.164841], [37.37736500000001, -121.945441], [38.727263, -76.990307], [47.61712, -122.32818], [34.077721000000004, -81.12785], [25.92404800000001, -80.32233000000002], [39.141083, -121.071186], [34.743849, -92.290231], [40.016153, -75.733961], [40.132681, -74.973975], [45.385197, -94.732564], [33.735440000000004, -117.8336], [34.32308, -118.475264], [38.958561, -76.865884], [36.982973, -121.96014], [34.095536, -118.244025], [32.332659, -95.272736], [33.3857, -111.93489], [38.724649, -77.203905], [25.905194, -80.324713], [33.995142, -117.361659], [36.035348, -95.886418], [45.362914, -122.609811], [38.543588, -121.509183], [45.223621, -123.083471], [37.85272, -122.29991], [38.67076, -121.22568], [33.876675, -118.108316], [33.523491, -81.691901], [39.399112, -77.44045], [38.770668, -77.289614], [41.962581, -121.921214], [28.588989, -82.148764], [41.67315, -87.66178000000002], [28.657354, -81.549314], [33.805149, -118.125187], [34.75589, -82.47653000000003], [37.895418, -122.308123], [34.045373, -118.009155], [28.02722, -82.18061], [33.674299, -78.96384499999998], [40.056385, -76.305734], [35.505193, -97.514042], [46.20485, -123.38225], [40.77559, -74.04437], [42.195102, -87.989436], [42.931233, -73.803099], [34.869359, -82.358361], [40.580631, -74.585076], [30.2887, -81.6275], [38.89241, -77.052578], [28.361049, -81.349822], [44.24452, -124.11162], [35.137396, -85.24744799999998], [35.23139000000001, -80.97039000000002], [33.91775, -118.10413], [40.7271, -73.92931], [38.617601, -121.3645], [28.431152, -81.40468], [45.12953, -122.90285], [40.208399, -75.139615], [38.001725, -122.047426], [32.48162, -93.754878], [43.66501, -116.66528999999998], [34.117697, -117.84633], [36.166573, -86.816936], [39.54848, -112.22758], [45.120924, -93.049553], [34.030345000000004, -117.63626200000002], [27.947596, -82.531518], [44.541366, -95.085666], [34.730867, -80.719195], [40.422298, -80.029602], [40.882295, -123.99523], [42.709316, -71.450682], [30.38742, -81.55812], [43.992286, -122.99426], [37.836152, -79.369815], [27.344648, -82.530919], [33.91637, -118.41552], [39.429985, -77.488857], [34.093226, -80.860716], [45.353931, -118.185371], [35.040415, -85.265068], [37.45280800000001, -122.128029], [45.90767, -123.799831], [43.37578, -73.6669], [34.02006, -118.19021], [34.861955, -82.251545], [42.367562, -87.855616], [45.316147, -122.911329], [30.4172, -91.097391], [25.984965, -80.165695], [42.421785, -83.090769], [34.070845, -81.145738], [34.172266, -118.51854], [25.603575, -80.351962], [42.13223, -121.91961], [34.96359, -82.039751], [38.679351, -121.333405], [33.798770000000005, -84.4887], [40.64281, -74.64641], [25.767325, -80.36883900000002], [29.744582, -95.339918], [33.46268, -112.19308], [40.253365, -79.261985], [41.193655, -122.283807], [39.961657, -76.72504], [34.035623, -118.367065], [25.988878, -80.16583], [39.095323, -79.778574], [44.98761, -92.96074], [42.34582, -71.05958000000003], [32.673471, -117.082687], [33.803043, -118.136377], [40.945299, -76.966466], [25.796806, -80.33710400000002], [33.459652, -117.657238], [30.385125, -97.766786]],\n",
              "                {&quot;blur&quot;: 15, &quot;maxZoom&quot;: 18, &quot;minOpacity&quot;: 0.5, &quot;radius&quot;: 25}\n",
              "            ).addTo(map_a186e9de4c7731d2801db640c0cf0407);\n",
              "        \n",
              "&lt;/script&gt;\n",
              "&lt;/html&gt;\" style=\"position:absolute;width:100%;height:100%;left:0;top:0;border:none !important;\" allowfullscreen webkitallowfullscreen mozallowfullscreen></iframe></div></div>"
            ]
          },
          "metadata": {},
          "execution_count": 48
        }
      ]
    },
    {
      "cell_type": "markdown",
      "source": [
        "# **Summary and Conclusion**\n",
        "\n",
        "1.   Only 4.2% of cities have more than 1000 yearly accidents\n",
        "2.   1110 cities have reported just 1 accident (need to investigate)\n",
        "\n"
      ],
      "metadata": {
        "id": "Y3CTtOaWdres"
      }
    },
    {
      "cell_type": "code",
      "source": [],
      "metadata": {
        "id": "x91Xg4tkYVQ0"
      },
      "execution_count": 39,
      "outputs": []
    },
    {
      "cell_type": "markdown",
      "source": [
        "# **Ask & answer questions**\n",
        "\n",
        "\n",
        "\n",
        "\n",
        "1.   Are there more accidents in warmer or colder areas?\n",
        "2.   Which 5 states have the highest number of accidents? How about per capita?\n",
        "3.   Does New York show up in the data? If yes, why is the count lower if this the most populated city.\n",
        "4.   how much % cities have more accidents\n",
        "5.   What time of the day are accidents more frequent in?\n",
        "6.   Which days of the week have the most accidents?\n",
        "7.   Which months have the most accidents?\n",
        "8.   What is the trend of accidents year over year (decreasing/increasing)?\n",
        "\n",
        "\n",
        "\n",
        "\n",
        "\n"
      ],
      "metadata": {
        "id": "hRycERHbYWhs"
      }
    },
    {
      "cell_type": "code",
      "source": [],
      "metadata": {
        "id": "EmPwy18WYVVM"
      },
      "execution_count": 39,
      "outputs": []
    }
  ],
  "metadata": {
    "colab": {
      "provenance": []
    },
    "kernelspec": {
      "display_name": "Python 3",
      "name": "python3"
    },
    "language_info": {
      "name": "python"
    },
    "gpuClass": "standard"
  },
  "nbformat": 4,
  "nbformat_minor": 0
}